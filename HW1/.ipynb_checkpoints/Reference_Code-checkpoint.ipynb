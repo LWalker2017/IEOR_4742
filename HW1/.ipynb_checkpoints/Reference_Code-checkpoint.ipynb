{
 "cells": [
  {
   "cell_type": "code",
   "execution_count": 11,
   "metadata": {},
   "outputs": [
    {
     "name": "stdout",
     "output_type": "stream",
     "text": [
      "Step #50 W = [[-0.44118884]\n",
      " [ 0.50322944]\n",
      " [-0.26334193]\n",
      " [ 0.04927358]]b = [[1.3453833]]\n",
      "Loss = 1.0\n",
      "Step #100 W = [[-0.3437246 ]\n",
      " [ 0.5921837 ]\n",
      " [-0.4645094 ]\n",
      " [-0.05608846]]b = [[1.3701832]]\n",
      "Loss = 1.0\n",
      "Step #150 W = [[-0.29919872]\n",
      " [ 0.58639866]\n",
      " [-0.52771044]\n",
      " [-0.09792022]]b = [[1.3790829]]\n",
      "Loss = 1.0\n",
      "Step #200 W = [[-0.2679603 ]\n",
      " [ 0.55908763]\n",
      " [-0.5509857 ]\n",
      " [-0.12173956]]b = [[1.3838834]]\n",
      "Loss = 1.0\n"
     ]
    },
    {
     "data": {
      "image/png": "[encoded data removed]",
      "text/plain": [
       "<Figure size 432x288 with 1 Axes>"
      ]
     },
     "metadata": {
      "needs_background": "light"
     },
     "output_type": "display_data"
    }
   ],
   "source": [
    "import matplotlib.pyplot as plt\n",
    "import numpy as np\n",
    "import tensorflow.compat.v1 as tf\n",
    "from sklearn import datasets\n",
    "from pylab import mpl\n",
    "tf.disable_v2_behavior()\n",
    "mpl.rcParams['font.sans-serif'] = ['SimHei']  \n",
    "\n",
    "np.random.seed(1)\n",
    "tf.set_random_seed(1)\n",
    "\n",
    "sess=tf.Session()\n",
    "#产生数据\n",
    "iris=datasets.load_iris()\n",
    "x_vals=iris.data\n",
    "y_vals=np.array([1 if y==0 else -1 for y in iris.target])\n",
    "#划分数据为训练集和测试集\n",
    "train_indices = np.random.choice(len(x_vals),round(len(x_vals)*0.8), replace=False)\n",
    "test_indices = np.array(list(set(range(len(x_vals))) - set(train_indices)))\n",
    "x_vals_train = x_vals[train_indices]\n",
    "x_vals_test = x_vals[test_indices]\n",
    "y_vals_train = y_vals[train_indices]\n",
    "y_vals_test = y_vals[test_indices]\n",
    "#批训练中批的大小\n",
    "batch_size = 100\n",
    "x_data = tf.placeholder(shape=[None, 4], dtype=tf.float32)\n",
    "y_target = tf.placeholder(shape=[None, 1], dtype=tf.float32)\n",
    "W = tf.Variable(tf.random_normal(shape=[4,1]))\n",
    "b = tf.Variable(tf.random_normal(shape=[1,1]))\n",
    "#定义损失函数\n",
    "model_output=tf.matmul(x_data,W)+b\n",
    "l2_norm = tf.reduce_sum(tf.square(W))\n",
    "#软正则化参数\n",
    "alpha = tf.constant([0.1])\n",
    "#定义损失函数\n",
    "classification_term = tf.reduce_mean(tf.maximum(0.,1.-model_output*y_target))\n",
    "loss = classification_term+alpha*l2_norm\n",
    "#输出\n",
    "prediction = tf.sign(model_output)\n",
    "accuracy = tf.reduce_mean(tf.cast(tf.equal(prediction, y_target),tf.float32))\n",
    "train_step=tf.train.GradientDescentOptimizer(0.01).minimize(loss)\n",
    "#开始训练\n",
    "sess.run(tf.global_variables_initializer())\n",
    "loss_vec = []\n",
    "train_accuracy = []\n",
    "test_accuracy = []\n",
    "for i in range(200):\n",
    "    rand_index = np.random.choice(len(x_vals_train), size=batch_size)\n",
    "    rand_x = x_vals_train[rand_index]\n",
    "    rand_y = np.transpose([y_vals_train[rand_index]])\n",
    "    sess.run(train_step, feed_dict={x_data: rand_x, y_target:rand_y})\n",
    "    temp_loss = sess.run(loss, feed_dict={x_data: rand_x, y_target: rand_y})\n",
    "    loss_vec.append(temp_loss)\n",
    "    train_acc_temp = sess.run(accuracy, feed_dict={x_data: x_vals_train, y_target: np.transpose([y_vals_train])})\n",
    "    train_accuracy.append(train_acc_temp)\n",
    "    test_acc_temp = sess.run(accuracy, feed_dict={x_data: x_vals_test, y_target: np.transpose([y_vals_test])})\n",
    "    test_accuracy.append(test_acc_temp)\n",
    "    if (i+1)%50==0:\n",
    "        print('Step #' + str(i+1) + ' W = ' + str(sess.run(W)) + 'b = ' + str(sess.run(b)))\n",
    "        print('Loss = ' + str(test_acc_temp))\n",
    "plt.plot(loss_vec)\n",
    "plt.plot(train_accuracy)\n",
    "plt.plot(test_accuracy)\n",
    "plt.legend(['损失','训练精确度','测试精确度'])\n",
    "plt.ylim(0.,1.)\n",
    "plt.show()"
   ]
  },
  {
   "cell_type": "code",
   "execution_count": null,
   "metadata": {},
   "outputs": [],
   "source": []
  }
 ],
 "metadata": {
  "kernelspec": {
   "display_name": "Python 3",
   "language": "python",
   "name": "python3"
  },
  "language_info": {
   "codemirror_mode": {
    "name": "ipython",
    "version": 3
   },
   "file_extension": ".py",
   "mimetype": "text/x-python",
   "name": "python",
   "nbconvert_exporter": "python",
   "pygments_lexer": "ipython3",
   "version": "3.7.4"
  },
  "toc": {
   "base_numbering": 1,
   "nav_menu": {},
   "number_sections": true,
   "sideBar": true,
   "skip_h1_title": false,
   "title_cell": "Table of Contents",
   "title_sidebar": "Contents",
   "toc_cell": false,
   "toc_position": {},
   "toc_section_display": true,
   "toc_window_display": false
  }
 },
 "nbformat": 4,
 "nbformat_minor": 2
}
