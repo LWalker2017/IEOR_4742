{
 "cells": [
  {
   "cell_type": "markdown",
   "metadata": {
    "colab_type": "text",
    "id": "5eCT-_-IvC_u"
   },
   "source": [
    "# Import"
   ]
  },
  {
   "cell_type": "code",
   "execution_count": 0,
   "metadata": {
    "colab": {
     "base_uri": "https://localhost:8080/",
     "height": 487
    },
    "colab_type": "code",
    "id": "lFvzGks6vEz2",
    "outputId": "a60228c1-96d8-410b-9a6a-b8159a5ece70"
   },
   "outputs": [
    {
     "name": "stdout",
     "output_type": "stream",
     "text": [
      "Collecting tensorflow-gpu==1.15.0\n",
      "\u001b[?25l  Downloading https://files.pythonhosted.org/packages/a5/ad/933140e74973fb917a194ab814785e7c23680ca5dee6d663a509fe9579b6/tensorflow_gpu-1.15.0-cp36-cp36m-manylinux2010_x86_64.whl (411.5MB)\n",
      "\u001b[K     |████████████████████████████████| 411.5MB 29kB/s \n",
      "\u001b[?25hRequirement already satisfied: wrapt>=1.11.1 in /usr/local/lib/python3.6/dist-packages (from tensorflow-gpu==1.15.0) (1.11.2)\n",
      "Requirement already satisfied: absl-py>=0.7.0 in /usr/local/lib/python3.6/dist-packages (from tensorflow-gpu==1.15.0) (0.9.0)\n",
      "Requirement already satisfied: grpcio>=1.8.6 in /usr/local/lib/python3.6/dist-packages (from tensorflow-gpu==1.15.0) (1.27.1)\n",
      "Requirement already satisfied: keras-applications>=1.0.8 in /usr/local/lib/python3.6/dist-packages (from tensorflow-gpu==1.15.0) (1.0.8)\n",
      "Requirement already satisfied: tensorboard<1.16.0,>=1.15.0 in /usr/local/lib/python3.6/dist-packages (from tensorflow-gpu==1.15.0) (1.15.0)\n",
      "Requirement already satisfied: wheel>=0.26 in /usr/local/lib/python3.6/dist-packages (from tensorflow-gpu==1.15.0) (0.34.2)\n",
      "Requirement already satisfied: astor>=0.6.0 in /usr/local/lib/python3.6/dist-packages (from tensorflow-gpu==1.15.0) (0.8.1)\n",
      "Requirement already satisfied: termcolor>=1.1.0 in /usr/local/lib/python3.6/dist-packages (from tensorflow-gpu==1.15.0) (1.1.0)\n",
      "Requirement already satisfied: gast==0.2.2 in /usr/local/lib/python3.6/dist-packages (from tensorflow-gpu==1.15.0) (0.2.2)\n",
      "Requirement already satisfied: google-pasta>=0.1.6 in /usr/local/lib/python3.6/dist-packages (from tensorflow-gpu==1.15.0) (0.1.8)\n",
      "Requirement already satisfied: keras-preprocessing>=1.0.5 in /usr/local/lib/python3.6/dist-packages (from tensorflow-gpu==1.15.0) (1.1.0)\n",
      "Requirement already satisfied: protobuf>=3.6.1 in /usr/local/lib/python3.6/dist-packages (from tensorflow-gpu==1.15.0) (3.10.0)\n",
      "Requirement already satisfied: tensorflow-estimator==1.15.1 in /usr/local/lib/python3.6/dist-packages (from tensorflow-gpu==1.15.0) (1.15.1)\n",
      "Requirement already satisfied: opt-einsum>=2.3.2 in /usr/local/lib/python3.6/dist-packages (from tensorflow-gpu==1.15.0) (3.1.0)\n",
      "Requirement already satisfied: numpy<2.0,>=1.16.0 in /usr/local/lib/python3.6/dist-packages (from tensorflow-gpu==1.15.0) (1.17.5)\n",
      "Requirement already satisfied: six>=1.10.0 in /usr/local/lib/python3.6/dist-packages (from tensorflow-gpu==1.15.0) (1.12.0)\n",
      "Requirement already satisfied: h5py in /usr/local/lib/python3.6/dist-packages (from keras-applications>=1.0.8->tensorflow-gpu==1.15.0) (2.8.0)\n",
      "Requirement already satisfied: markdown>=2.6.8 in /usr/local/lib/python3.6/dist-packages (from tensorboard<1.16.0,>=1.15.0->tensorflow-gpu==1.15.0) (3.2.1)\n",
      "Requirement already satisfied: werkzeug>=0.11.15 in /usr/local/lib/python3.6/dist-packages (from tensorboard<1.16.0,>=1.15.0->tensorflow-gpu==1.15.0) (1.0.0)\n",
      "Requirement already satisfied: setuptools>=41.0.0 in /usr/local/lib/python3.6/dist-packages (from tensorboard<1.16.0,>=1.15.0->tensorflow-gpu==1.15.0) (45.2.0)\n",
      "Installing collected packages: tensorflow-gpu\n",
      "Successfully installed tensorflow-gpu-1.15.0\n"
     ]
    }
   ],
   "source": [
    "!pip install tensorflow-gpu==1.15.0 # GPU Version"
   ]
  },
  {
   "cell_type": "code",
   "execution_count": 1,
   "metadata": {
    "colab": {
     "base_uri": "https://localhost:8080/",
     "height": 624
    },
    "colab_type": "code",
    "collapsed": true,
    "id": "G7VZMBjYvC_w",
    "outputId": "5673ca91-872d-4c79-faeb-e5d02b78408d"
   },
   "outputs": [
    {
     "data": {
      "text/html": [
       "<p style=\"color: red;\">\n",
       "The default version of TensorFlow in Colab will soon switch to TensorFlow 2.x.<br>\n",
       "We recommend you <a href=\"https://www.tensorflow.org/guide/migrate\" target=\"_blank\">upgrade</a> now \n",
       "or ensure your notebook will continue to use TensorFlow 1.x via the <code>%tensorflow_version 1.x</code> magic:\n",
       "<a href=\"https://colab.research.google.com/notebooks/tensorflow_version.ipynb\" target=\"_blank\">more info</a>.</p>\n"
      ],
      "text/plain": [
       "<IPython.core.display.HTML object>"
      ]
     },
     "metadata": {
      "tags": []
     },
     "output_type": "display_data"
    },
    {
     "name": "stdout",
     "output_type": "stream",
     "text": [
      "Found GPU at: /device:GPU:0\n",
      "WARNING:tensorflow:From <ipython-input-1-148388799e60>:12: read_data_sets (from tensorflow.contrib.learn.python.learn.datasets.mnist) is deprecated and will be removed in a future version.\n",
      "Instructions for updating:\n",
      "Please use alternatives such as official/mnist/dataset.py from tensorflow/models.\n",
      "WARNING:tensorflow:From /usr/local/lib/python3.6/dist-packages/tensorflow_core/contrib/learn/python/learn/datasets/mnist.py:260: maybe_download (from tensorflow.contrib.learn.python.learn.datasets.base) is deprecated and will be removed in a future version.\n",
      "Instructions for updating:\n",
      "Please write your own downloading logic.\n",
      "WARNING:tensorflow:From /usr/local/lib/python3.6/dist-packages/tensorflow_core/contrib/learn/python/learn/datasets/base.py:252: _internal_retry.<locals>.wrap.<locals>.wrapped_fn (from tensorflow.contrib.learn.python.learn.datasets.base) is deprecated and will be removed in a future version.\n",
      "Instructions for updating:\n",
      "Please use urllib or similar directly.\n",
      "Successfully downloaded train-images-idx3-ubyte.gz 9912422 bytes.\n",
      "WARNING:tensorflow:From /usr/local/lib/python3.6/dist-packages/tensorflow_core/contrib/learn/python/learn/datasets/mnist.py:262: extract_images (from tensorflow.contrib.learn.python.learn.datasets.mnist) is deprecated and will be removed in a future version.\n",
      "Instructions for updating:\n",
      "Please use tf.data to implement this functionality.\n",
      "Extracting MNIST_data/train-images-idx3-ubyte.gz\n",
      "Successfully downloaded train-labels-idx1-ubyte.gz 28881 bytes.\n",
      "WARNING:tensorflow:From /usr/local/lib/python3.6/dist-packages/tensorflow_core/contrib/learn/python/learn/datasets/mnist.py:267: extract_labels (from tensorflow.contrib.learn.python.learn.datasets.mnist) is deprecated and will be removed in a future version.\n",
      "Instructions for updating:\n",
      "Please use tf.data to implement this functionality.\n",
      "Extracting MNIST_data/train-labels-idx1-ubyte.gz\n",
      "WARNING:tensorflow:From /usr/local/lib/python3.6/dist-packages/tensorflow_core/contrib/learn/python/learn/datasets/mnist.py:110: dense_to_one_hot (from tensorflow.contrib.learn.python.learn.datasets.mnist) is deprecated and will be removed in a future version.\n",
      "Instructions for updating:\n",
      "Please use tf.one_hot on tensors.\n",
      "Successfully downloaded t10k-images-idx3-ubyte.gz 1648877 bytes.\n",
      "Extracting MNIST_data/t10k-images-idx3-ubyte.gz\n",
      "Successfully downloaded t10k-labels-idx1-ubyte.gz 4542 bytes.\n",
      "Extracting MNIST_data/t10k-labels-idx1-ubyte.gz\n",
      "WARNING:tensorflow:From /usr/local/lib/python3.6/dist-packages/tensorflow_core/contrib/learn/python/learn/datasets/mnist.py:290: DataSet.__init__ (from tensorflow.contrib.learn.python.learn.datasets.mnist) is deprecated and will be removed in a future version.\n",
      "Instructions for updating:\n",
      "Please use alternatives such as official/mnist/dataset.py from tensorflow/models.\n"
     ]
    }
   ],
   "source": [
    "# import tensorflow.compat.v1 as tf\n",
    "import tensorflow as tf\n",
    "import time\n",
    "import numpy as np\n",
    "import matplotlib.pyplot as plt\n",
    "from tensorflow.examples.tutorials.mnist import input_data\n",
    "# tf.disable_v2_behavior()\n",
    "\n",
    "# Confirm Tensorflow can see the GPU\n",
    "device_name = tf.test.gpu_device_name()\n",
    "print('Found GPU at: {}'.format(device_name))\n",
    "#load MNIST dataset \n",
    "mnist = input_data.read_data_sets(\"MNIST_data/\", one_hot=True)"
   ]
  },
  {
   "cell_type": "markdown",
   "metadata": {
    "colab_type": "text",
    "id": "ARC8fc_avC_2"
   },
   "source": [
    "# Parameters"
   ]
  },
  {
   "cell_type": "code",
   "execution_count": 0,
   "metadata": {
    "colab": {},
    "colab_type": "code",
    "id": "XmWEOO9NvC_4"
   },
   "outputs": [],
   "source": [
    "# The length of window in the pooling layer\n",
    "k = 2\n",
    "\n",
    "# Parameters\n",
    "learning_rate = 0.005\n",
    "training_epochs = 50\n",
    "batch_size = 200\n",
    "display_step = 1"
   ]
  },
  {
   "cell_type": "markdown",
   "metadata": {
    "colab_type": "text",
    "id": "iR2KrfpJvC_9"
   },
   "source": [
    "# Define 2-d Convolution Function"
   ]
  },
  {
   "cell_type": "code",
   "execution_count": 0,
   "metadata": {
    "colab": {},
    "colab_type": "code",
    "id": "Z8yKmp7kvC__"
   },
   "outputs": [],
   "source": [
    "def module_conv2d(x, weight_shape, bias_shape):\n",
    "    \"\"\"\n",
    "    https://www.tensorflow.org/api_docs/python/tf/nn/conv2d\n",
    "    Computes a 2 dimentional convolution given the 4d input and filter\n",
    "    input:\n",
    "        x: [batch, in_height, in_width, in_channels]\n",
    "        weight: [filter_height, filter_width, in_channels, out_channels]\n",
    "        bias: [out_channels]\n",
    "    output:\n",
    "        The relu activation of convolution\n",
    "    \"\"\"\n",
    "    print([weight_shape[0], weight_shape[1], weight_shape[2], weight_shape[3]])\n",
    "    sizeIn = weight_shape[0] * weight_shape[1] * weight_shape[2]\n",
    "    \n",
    "    # initialize weights with data generated from a normal distribution.\n",
    "    # Sometimes, a smaller stddev can improve the accuracy significantly. Take some trials by yourself.\n",
    "    weight_init = tf.random_normal_initializer(stddev=(2.0/sizeIn)**0.5)\n",
    "    W = tf.get_variable(\"W\", weight_shape, initializer=weight_init)\n",
    "    \n",
    "    # initialize bias with zeros\n",
    "    bias_init = tf.constant_initializer(value=0)\n",
    "    b = tf.get_variable(\"b\", bias_shape, initializer=bias_init)\n",
    "    \n",
    "    # Specify the stride length to be one in all directions.\n",
    "    # padding='SAME': pad enough so the output has the same dimensions as the input tensor.\n",
    "    # strides: The stride of the sliding window for each dimension of input.\n",
    "    # data_format: Defaults to \"NHWC\" [batch, height, width, channels].\n",
    "    #\"VALID\" = without padding, \"SAME\" = with zero padding, if use a stride of 1, output size is the same as input size\n",
    "    return tf.nn.relu(tf.nn.bias_add(tf.nn.conv2d(x, W, strides=[1, 1, 1, 1], padding='SAME'), b))"
   ]
  },
  {
   "cell_type": "markdown",
   "metadata": {
    "colab_type": "text",
    "id": "QwYbZ0lTvDAG"
   },
   "source": [
    "# Define Layer Function"
   ]
  },
  {
   "cell_type": "code",
   "execution_count": 0,
   "metadata": {
    "colab": {},
    "colab_type": "code",
    "id": "_p1SaoAxvDAI"
   },
   "outputs": [],
   "source": [
    "def layer(x, weight_shape, bias_shape):\n",
    "    \"\"\"\n",
    "    Defines the network layers\n",
    "    input:\n",
    "        - x: input vector of the layer\n",
    "        - weight_shape: shape of the weight maxtrix\n",
    "        - bias_shape: shape of the bias vector\n",
    "    output:\n",
    "        - output vector of the layer after the matrix multiplication and transformation\n",
    "    \"\"\"\n",
    "    \n",
    "    weight_init = tf.random_normal_initializer(stddev=(2.0/weight_shape[0])**0.5)\n",
    "    W = tf.get_variable(\"W\", weight_shape, initializer=weight_init)\n",
    "    \n",
    "    bias_init = tf.constant_initializer(value=0)\n",
    "    b = tf.get_variable(\"b\", bias_shape, initializer=bias_init)\n",
    "    \n",
    "    return tf.nn.relu(tf.matmul(x, W) + b)"
   ]
  },
  {
   "cell_type": "markdown",
   "metadata": {
    "colab_type": "text",
    "id": "A-YYu7hivDAR"
   },
   "source": [
    "# Define Pooling Function"
   ]
  },
  {
   "cell_type": "code",
   "execution_count": 0,
   "metadata": {
    "colab": {},
    "colab_type": "code",
    "id": "oNGh-wHgvDAT"
   },
   "outputs": [],
   "source": [
    "def pooling(x, k):\n",
    "    \"\"\"\n",
    "    Extracts the main information of the conv layer by performs the max pooling on the input x.\n",
    "    input:\n",
    "        x: A 4-D Tensor. [batch, in_height, in_width, in_channels]\n",
    "        k: The length of window\n",
    "    \"\"\"\n",
    "    \n",
    "    #value: A 4-D Tensor of the format specified by data_format. That is x in this case.\n",
    "    #ksize: A 1-D int Tensor of 4 elements. The size of the window for each dimension of input\n",
    "    #strides: A 1-D int Tensor of 4 elements. The stride of the sliding window for each dimension of input\n",
    "    #padding: A string, either 'VALID' or 'SAME'. Difference of 'VALID' and 'SAME' in tf.nn.max_pool:\n",
    "    #new_height=new_width=roundup(Size/Stride)\n",
    "    #https://stackoverflow.com/questions/37674306/what-is-the-difference-between-same-and-valid-padding-in-tf-nn-max-pool-of-t\n",
    "    return tf.nn.max_pool(x, ksize=[1, k, k, 1], strides=[1, k, k, 1], padding='SAME')"
   ]
  },
  {
   "cell_type": "markdown",
   "metadata": {
    "colab_type": "text",
    "id": "wXI5OD7-vDAX"
   },
   "source": [
    "# Define Inference"
   ]
  },
  {
   "cell_type": "code",
   "execution_count": 0,
   "metadata": {
    "colab": {},
    "colab_type": "code",
    "id": "V4B2naYjvDAY"
   },
   "outputs": [],
   "source": [
    "def inference(x, keep_prob):\n",
    "    \"\"\"\n",
    "    define the structure of the whole network\n",
    "    input:\n",
    "        - x: a batch of pictures \n",
    "        (input shape = (batch_size*image_size))\n",
    "        - keep_prob: The keep_prob of dropout layer\n",
    "    output:\n",
    "        - a batch vector corresponding to the logits predicted by the network\n",
    "        (output shape = (batch_size*output_size)) \n",
    "    \"\"\"\n",
    "\n",
    "    # Reshape the input into Nx28x28x1 (N # of examples & 1 due to Black-White)\n",
    "    # flatten \n",
    "    # pass '[-1]' to flatten 't'\n",
    "    # -1 can also be used to infer the shape, -1是缺省值，未定\n",
    "    # 通过reshape生成的新的形状的数组和原始数组共用一个内存\n",
    "    x = tf.reshape(x, shape=[-1, 28, 28, 1])\n",
    "    \n",
    "    with tf.variable_scope(\"convolutional_layer_1\"):\n",
    "\n",
    "        # convolutional layer with 32 filters and spatial extent e = 5\n",
    "        # this causes in taking an input of volume with depth of 1 and producing an output tensor with 32 channels.\n",
    "        # Nx28x28x32\n",
    "        convolutional_1 = module_conv2d(x, [5, 5, 1, 32], [32])\n",
    "        \n",
    "        # output in passed to max-pooling to be compressed (k=2 non-overlapping).\n",
    "        # Nx14x14x32\n",
    "        pooling_1 = pooling(convolutional_1, k)\n",
    "\n",
    "    with tf.variable_scope(\"convolutional_layer_2\"):\n",
    "        \n",
    "        # convolutional layer with 64 filters with spatial extent e = 5\n",
    "        # taking an input tensor with depth of 32 and \n",
    "        # producing an output tensor with depth 64\n",
    "        # Nx14x14x64\n",
    "        convolutional_2 = module_conv2d(pooling_1, [5, 5, 32, 64], [64])\n",
    "        \n",
    "        # output in passed to max-pooling to be compressed (k=2 non-overlapping).\n",
    "        # Nx7x7x64\n",
    "        pooling_2 = pooling(convolutional_2, k)\n",
    "\n",
    "    with tf.variable_scope(\"convolutional_layer_3\"):\n",
    "        \n",
    "        # convolutional layer with 128 filters with spatial extent e = 5\n",
    "        # taking an input tensor with depth of 64 and \n",
    "        # producing an output tensor with depth 128\n",
    "        # Nx7x7x128\n",
    "        convolutional_3 = module_conv2d(pooling_2, [5, 5, 64, 128], [128])\n",
    "        \n",
    "        # output in passed to max-pooling to be compressed (k=2 non-overlapping).\n",
    "        # Nx4x4x128\n",
    "        pooling_3 = pooling(convolutional_3, k)\n",
    "\n",
    "    with tf.variable_scope(\"convolutional_layer_4\"):\n",
    "        \n",
    "        # convolutional layer with 256 filters with spatial extent e = 5\n",
    "        # taking an input tensor with depth of 128 and \n",
    "        # producing an output tensor with depth 256\n",
    "        # Nx4x4x256\n",
    "        convolutional_4 = module_conv2d(pooling_3, [5, 5, 128, 256], [256])\n",
    "        \n",
    "        # output in passed to max-pooling to be compressed (k=2 non-overlapping).\n",
    "        # Nx2x2x256\n",
    "        pooling_4 = pooling(convolutional_4, k)\n",
    "\n",
    "    with tf.variable_scope(\"fully_connected\"):\n",
    "        \n",
    "        # pass the output of max-pooling into a Fully_Connected layer\n",
    "        # use reshape to flatten the tensor\n",
    "        # We have 64 filters\n",
    "        # To find the height & width after max-pooling:\n",
    "        # roundup((16-5)/2) + 1 = 7\n",
    "        pool_2_flat = tf.reshape(pooling_4, [-1, 2*2*256])\n",
    "        \n",
    "        # after reshaping, use fully-connected layer to compress\n",
    "        # the flattened representation into a hidden layer of size 784?\n",
    "        # each feature map has a height & width of 7\n",
    "        # 7*7*64/784=4\n",
    "        fc_1 = layer(pool_2_flat, [2*2*256, 784], [784])\n",
    "        \n",
    "        # apply dropout. You may try to add drop out after every pooling layer.\n",
    "        # outputs the input element scaled up by 1/keep_prob\n",
    "        # The scaling is so that the expected sum is unchanged\n",
    "        fc_1_drop = tf.nn.dropout(fc_1, keep_prob)\n",
    "\n",
    "    with tf.variable_scope(\"output\"):\n",
    "        output = layer(fc_1_drop, [784, 10], [10])\n",
    "\n",
    "    return output\n"
   ]
  },
  {
   "cell_type": "markdown",
   "metadata": {
    "colab_type": "text",
    "id": "Zeyyv3MdvDAd"
   },
   "source": [
    "# Define Loss Function"
   ]
  },
  {
   "cell_type": "code",
   "execution_count": 0,
   "metadata": {
    "colab": {},
    "colab_type": "code",
    "id": "HO7M_9UmvDAe"
   },
   "outputs": [],
   "source": [
    "def loss(output, y):\n",
    "    \"\"\"\n",
    "    Computes softmax cross entropy between logits and labels and then the loss \n",
    "    \n",
    "    intput:\n",
    "        - output: the output of the inference function \n",
    "        - y: true value of the sample batch\n",
    "        \n",
    "        the two have the same shape (batch_size * num_of_classes)\n",
    "    output:\n",
    "        - loss: loss of the corresponding batch (scalar tensor)\n",
    "    \n",
    "    \"\"\"\n",
    "    xentropy = tf.nn.softmax_cross_entropy_with_logits(logits=output, labels=y)    \n",
    "    loss = tf.reduce_mean(xentropy)\n",
    "    return loss"
   ]
  },
  {
   "cell_type": "markdown",
   "metadata": {
    "colab_type": "text",
    "id": "Xwsi4k-JvDAi"
   },
   "source": [
    "# Define the Optimizer and Training Target"
   ]
  },
  {
   "cell_type": "code",
   "execution_count": 0,
   "metadata": {
    "colab": {},
    "colab_type": "code",
    "id": "NVyD7Lg-vDAk"
   },
   "outputs": [],
   "source": [
    "def training(cost, global_step):\n",
    "    \"\"\"\n",
    "    defines the necessary elements to train the network\n",
    "    \n",
    "    intput:\n",
    "        - cost: the cost is the loss of the corresponding batch\n",
    "        - global_step: number of batch seen so far, it is incremented by one each time the .minimize() function is called\n",
    "    \"\"\"\n",
    "    tf.summary.scalar(\"cost\", cost)\n",
    "    # using Adam Optimizer \n",
    "    optimizer = tf.train.AdamOptimizer(learning_rate)\n",
    "    train_op = optimizer.minimize(cost, global_step=global_step)\n",
    "    return train_op"
   ]
  },
  {
   "cell_type": "markdown",
   "metadata": {
    "colab_type": "text",
    "id": "lW1mNEM-vDAp"
   },
   "source": [
    "# Define evaluation method"
   ]
  },
  {
   "cell_type": "code",
   "execution_count": 0,
   "metadata": {
    "colab": {},
    "colab_type": "code",
    "id": "ujy6uE4cvDAr"
   },
   "outputs": [],
   "source": [
    "def evaluate(output, y):\n",
    "    \"\"\"\n",
    "    evaluates the accuracy on the validation set \n",
    "    input:\n",
    "        -output: prediction vector of the network for the validation set\n",
    "        -y: true value for the validation set\n",
    "    output:\n",
    "        - accuracy: accuracy on the validation set (scalar between 0 and 1)\n",
    "    \"\"\"\n",
    "    #correct prediction is a binary vector which equals one when the output and y match\n",
    "    #otherwise the vector equals 0\n",
    "    #tf.cast: change the type of a tensor into another one\n",
    "    #then, by taking the mean of the tensor, we directly have the average score, so the accuracy\n",
    "    \n",
    "    correct_prediction = tf.equal(tf.argmax(output, 1), tf.argmax(y, 1))\n",
    "    accuracy = tf.reduce_mean(tf.cast(correct_prediction, tf.float32))\n",
    "    tf.summary.scalar(\"validation_error\", (1.0 - accuracy))\n",
    "    return accuracy"
   ]
  },
  {
   "cell_type": "markdown",
   "metadata": {
    "colab_type": "text",
    "id": "-tNMtTu1vDAy"
   },
   "source": [
    "# Main Function"
   ]
  },
  {
   "cell_type": "code",
   "execution_count": 10,
   "metadata": {
    "colab": {
     "base_uri": "https://localhost:8080/",
     "height": 1000
    },
    "colab_type": "code",
    "id": "TaDLwsb7vDA0",
    "outputId": "3ea7d4a7-2ea8-49f0-9d3c-f04d63c9ac69",
    "scrolled": false
   },
   "outputs": [
    {
     "name": "stdout",
     "output_type": "stream",
     "text": [
      "[5, 5, 1, 32]\n",
      "[5, 5, 32, 64]\n",
      "[5, 5, 64, 128]\n",
      "[5, 5, 128, 256]\n",
      "WARNING:tensorflow:From <ipython-input-6-701f7e99d5a0>:85: calling dropout (from tensorflow.python.ops.nn_ops) with keep_prob is deprecated and will be removed in a future version.\n",
      "Instructions for updating:\n",
      "Please use `rate` instead of `keep_prob`. Rate should be set to `rate = 1 - keep_prob`.\n",
      "WARNING:tensorflow:From <ipython-input-7-c84abbc09f74>:14: softmax_cross_entropy_with_logits (from tensorflow.python.ops.nn_ops) is deprecated and will be removed in a future version.\n",
      "Instructions for updating:\n",
      "\n",
      "Future major versions of TensorFlow will allow gradients to flow\n",
      "into the labels input on backprop by default.\n",
      "\n",
      "See `tf.nn.softmax_cross_entropy_with_logits_v2`.\n",
      "\n",
      "Epoch: 0001 cost = 1.550357307\n",
      "Validation Error: 0.44859999418258667\n",
      "Epoch: 0002 cost = 1.159402251\n",
      "Validation Error: 0.40060001611709595\n",
      "Epoch: 0003 cost = 1.006479060\n",
      "Validation Error: 0.30720001459121704\n",
      "Epoch: 0004 cost = 0.944815741\n",
      "Validation Error: 0.3101999759674072\n",
      "Epoch: 0005 cost = 0.940766630\n",
      "Validation Error: 0.3222000002861023\n",
      "Epoch: 0006 cost = 0.937866667\n",
      "Validation Error: 0.3274000287055969\n",
      "WARNING:tensorflow:From /usr/local/lib/python3.6/dist-packages/tensorflow_core/python/training/saver.py:963: remove_checkpoint (from tensorflow.python.training.checkpoint_management) is deprecated and will be removed in a future version.\n",
      "Instructions for updating:\n",
      "Use standard file APIs to delete files with this prefix.\n",
      "Epoch: 0007 cost = 0.937267811\n",
      "Validation Error: 0.32260000705718994\n",
      "Epoch: 0008 cost = 0.936099361\n",
      "Validation Error: 0.3141999840736389\n",
      "Epoch: 0009 cost = 0.889573264\n",
      "Validation Error: 0.25700002908706665\n",
      "Epoch: 0010 cost = 0.730074677\n",
      "Validation Error: 0.2441999912261963\n",
      "Epoch: 0011 cost = 0.720425049\n",
      "Validation Error: 0.22439998388290405\n",
      "Epoch: 0012 cost = 0.713964655\n",
      "Validation Error: 0.17979997396469116\n",
      "Epoch: 0013 cost = 0.714258662\n",
      "Validation Error: 0.23100000619888306\n",
      "Epoch: 0014 cost = 0.718252782\n",
      "Validation Error: 0.22140002250671387\n",
      "Epoch: 0015 cost = 0.718810383\n",
      "Validation Error: 0.21859997510910034\n",
      "Epoch: 0016 cost = 0.717969517\n",
      "Validation Error: 0.22280001640319824\n",
      "Epoch: 0017 cost = 0.713382415\n",
      "Validation Error: 0.19220000505447388\n",
      "Epoch: 0018 cost = 0.715967364\n",
      "Validation Error: 0.20740002393722534\n",
      "Epoch: 0019 cost = 0.716713492\n",
      "Validation Error: 0.22140002250671387\n",
      "Epoch: 0020 cost = 0.540061872\n",
      "Validation Error: 0.14020001888275146\n",
      "Epoch: 0021 cost = 0.504317111\n",
      "Validation Error: 0.12019997835159302\n",
      "Epoch: 0022 cost = 0.494693783\n",
      "Validation Error: 0.1128000020980835\n",
      "Epoch: 0023 cost = 0.493935684\n",
      "Validation Error: 0.1119999885559082\n",
      "Epoch: 0024 cost = 0.489373744\n",
      "Validation Error: 0.11100000143051147\n",
      "Epoch: 0025 cost = 0.498490480\n",
      "Validation Error: 0.1218000054359436\n",
      "Epoch: 0026 cost = 0.501450113\n",
      "Validation Error: 0.11580002307891846\n",
      "Epoch: 0027 cost = 0.496371868\n",
      "Validation Error: 0.11799997091293335\n",
      "Epoch: 0028 cost = 0.495050550\n",
      "Validation Error: 0.11260002851486206\n",
      "Epoch: 0029 cost = 0.495615758\n",
      "Validation Error: 0.11299997568130493\n",
      "Epoch: 0030 cost = 0.492964532\n",
      "Validation Error: 0.11059999465942383\n",
      "Epoch: 0031 cost = 0.491638248\n",
      "Validation Error: 0.11080002784729004\n",
      "Epoch: 0032 cost = 0.491760887\n",
      "Validation Error: 0.1087999939918518\n",
      "Epoch: 0033 cost = 0.491604988\n",
      "Validation Error: 0.11879998445510864\n",
      "Epoch: 0034 cost = 0.504663473\n",
      "Validation Error: 0.1151999831199646\n",
      "Epoch: 0035 cost = 0.503881065\n",
      "Validation Error: 0.10979998111724854\n",
      "Epoch: 0036 cost = 0.516575268\n",
      "Validation Error: 0.11879998445510864\n",
      "Epoch: 0037 cost = 0.502395744\n",
      "Validation Error: 0.11440002918243408\n",
      "Epoch: 0038 cost = 0.515053787\n",
      "Validation Error: 0.11220002174377441\n",
      "Epoch: 0039 cost = 0.504425452\n",
      "Validation Error: 0.1119999885559082\n",
      "Epoch: 0040 cost = 0.493901751\n",
      "Validation Error: 0.11019998788833618\n",
      "Epoch: 0041 cost = 0.493131618\n",
      "Validation Error: 0.1119999885559082\n",
      "Epoch: 0042 cost = 0.501065721\n",
      "Validation Error: 0.11339998245239258\n",
      "Epoch: 0043 cost = 0.507176060\n",
      "Validation Error: 0.10979998111724854\n",
      "Epoch: 0044 cost = 0.498898208\n",
      "Validation Error: 0.11220002174377441\n",
      "Epoch: 0045 cost = 0.505473300\n",
      "Validation Error: 0.11220002174377441\n",
      "Epoch: 0046 cost = 0.505567674\n",
      "Validation Error: 0.10839998722076416\n",
      "Epoch: 0047 cost = 0.511678117\n",
      "Validation Error: 0.1128000020980835\n",
      "Epoch: 0048 cost = 0.496971046\n",
      "Validation Error: 0.11220002174377441\n",
      "Epoch: 0049 cost = 0.506198991\n",
      "Validation Error: 0.11080002784729004\n",
      "Epoch: 0050 cost = 0.499844160\n",
      "Validation Error: 0.11239999532699585\n",
      "Optimization Done\n",
      "Test Accuracy: 0.8837\n",
      "Execution time (seconds) was 642.324\n"
     ]
    }
   ],
   "source": [
    "if __name__ == '__main__':\n",
    "    \n",
    "    #please, make sure you changed for your own path \n",
    "    log_files_path = './logs/CNNs/'\n",
    "    start_time = time.time()\n",
    "    \n",
    "    with tf.Graph().as_default():\n",
    "\n",
    "        with tf.variable_scope(\"MNIST_convolutional_model\"):\n",
    "            #neural network definition\n",
    "            \n",
    "            #the input variables are first define as placeholder \n",
    "            # a placeholder is a variable/data which will be assigned later \n",
    "            # MNIST data image of shape 28*28=784\n",
    "            x = tf.placeholder(\"float\", [None, 784]) \n",
    "            # 0-9 digits recognition\n",
    "            y = tf.placeholder(\"float\", [None, 10])  \n",
    "            \n",
    "            # dropout probability\n",
    "            keep_prob = tf.placeholder(tf.float32) \n",
    "            #the network is defined using the inference function defined above in the code\n",
    "            output = inference(x, keep_prob)\n",
    "            cost = loss(output, y)\n",
    "            #initialize the value of the global_step variable \n",
    "            # recall: it is incremented by one each time the .minimise() is called\n",
    "            global_step = tf.Variable(0, name='global_step', trainable=False)\n",
    "            train_op = training(cost, global_step)\n",
    "            #evaluate the accuracy of the network (done on a validation set)\n",
    "            eval_op = evaluate(output, y)\n",
    "            summary_op = tf.summary.merge_all()\n",
    "            saver = tf.train.Saver()\n",
    "            sess = tf.Session()\n",
    "            \n",
    "            summary_writer = tf.summary.FileWriter(log_files_path, sess.graph)\n",
    "            init_op = tf.global_variables_initializer()\n",
    "            sess.run(init_op)\n",
    "            \n",
    "            # Training cycle\n",
    "            for epoch in range(training_epochs):\n",
    "\n",
    "                avg_cost = 0.0\n",
    "                total_batch = int(mnist.train.num_examples/batch_size)\n",
    "                \n",
    "                # Loop over all batches\n",
    "                for i in range(total_batch):\n",
    "                    \n",
    "                    minibatch_x, minibatch_y = mnist.train.next_batch(batch_size)\n",
    "                    \n",
    "                    # Fit training using batch data\n",
    "                    sess.run(train_op, feed_dict={x: minibatch_x, y: minibatch_y, keep_prob: 0.5})\n",
    "                    \n",
    "                    # Compute average loss\n",
    "                    avg_cost += sess.run(cost, feed_dict={x: minibatch_x, y: minibatch_y, keep_prob: 0.5})/total_batch\n",
    "                \n",
    "                \n",
    "                # Display logs per epoch step\n",
    "                if epoch % display_step == 0:\n",
    "                    \n",
    "                    print(\"Epoch:\", '%04d' % (epoch+1), \"cost =\", \"{:0.9f}\".format(avg_cost))\n",
    "                    \n",
    "                    #probability dropout of 1 during validation\n",
    "                    accuracy = sess.run(eval_op, feed_dict={x: mnist.validation.images, y: mnist.validation.labels, keep_prob: 1})\n",
    "                    print(\"Validation Error:\", (1 - accuracy))\n",
    "                    \n",
    "                    # probability dropout of 0.25 during training\n",
    "                    summary_str = sess.run(summary_op, feed_dict={x: minibatch_x, y: minibatch_y, keep_prob: 0.25})\n",
    "                    summary_writer.add_summary(summary_str, sess.run(global_step))\n",
    "                    \n",
    "                    saver.save(sess, log_files_path + 'model-checkpoint', global_step=global_step)\n",
    "                    \n",
    "            print(\"Optimization Done\")\n",
    "                    \n",
    "            accuracy = sess.run(eval_op, feed_dict={x: mnist.test.images, y: mnist.test.labels, keep_prob: 1})\n",
    "            print(\"Test Accuracy:\", accuracy)\n",
    "                    \n",
    "        elapsed_time = time.time() - start_time\n",
    "        print('Execution time (seconds) was %0.3f' % elapsed_time)"
   ]
  },
  {
   "cell_type": "code",
   "execution_count": 0,
   "metadata": {
    "colab": {},
    "colab_type": "code",
    "id": "vOa5W57FvDA7"
   },
   "outputs": [],
   "source": []
  },
  {
   "cell_type": "code",
   "execution_count": 0,
   "metadata": {
    "colab": {},
    "colab_type": "code",
    "id": "sqlOy4s7vDBD"
   },
   "outputs": [],
   "source": []
  }
 ],
 "metadata": {
  "accelerator": "GPU",
  "colab": {
   "collapsed_sections": [],
   "name": "example_CNN.ipynb",
   "provenance": []
  },
  "kernelspec": {
   "display_name": "Python 3",
   "language": "python",
   "name": "python3"
  },
  "language_info": {
   "codemirror_mode": {
    "name": "ipython",
    "version": 3
   },
   "file_extension": ".py",
   "mimetype": "text/x-python",
   "name": "python",
   "nbconvert_exporter": "python",
   "pygments_lexer": "ipython3",
   "version": "3.7.4"
  },
  "toc": {
   "base_numbering": 1,
   "nav_menu": {},
   "number_sections": true,
   "sideBar": true,
   "skip_h1_title": false,
   "title_cell": "Table of Contents",
   "title_sidebar": "Contents",
   "toc_cell": false,
   "toc_position": {},
   "toc_section_display": true,
   "toc_window_display": false
  }
 },
 "nbformat": 4,
 "nbformat_minor": 1
}
