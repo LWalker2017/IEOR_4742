{
  "nbformat": 4,
  "nbformat_minor": 0,
  "metadata": {
    "kernelspec": {
      "display_name": "Python 3",
      "language": "python",
      "name": "python3"
    },
    "language_info": {
      "codemirror_mode": {
        "name": "ipython",
        "version": 3
      },
      "file_extension": ".py",
      "mimetype": "text/x-python",
      "name": "python",
      "nbconvert_exporter": "python",
      "pygments_lexer": "ipython3",
      "version": "3.7.4"
    },
    "toc": {
      "base_numbering": 1,
      "nav_menu": {},
      "number_sections": true,
      "sideBar": true,
      "skip_h1_title": false,
      "title_cell": "Table of Contents",
      "title_sidebar": "Contents",
      "toc_cell": false,
      "toc_position": {},
      "toc_section_display": true,
      "toc_window_display": false
    },
    "colab": {
      "name": "IEOR4742_HW5_Problem1.ipynb",
      "provenance": [],
      "collapsed_sections": []
    },
    "accelerator": "GPU"
  },
  "cells": [
    {
      "cell_type": "code",
      "metadata": {
        "id": "bbYcqcoQ9V0H",
        "colab_type": "code",
        "colab": {}
      },
      "source": [
        "!pip install tensorflow-gpu==1.15.0 # GPU Version"
      ],
      "execution_count": 0,
      "outputs": []
    },
    {
      "cell_type": "markdown",
      "metadata": {
        "id": "c6gSIIpp9MQY",
        "colab_type": "text"
      },
      "source": [
        "# Import"
      ]
    },
    {
      "cell_type": "code",
      "metadata": {
        "id": "wV5zNh5R9MQb",
        "colab_type": "code",
        "outputId": "b3d35b37-10b3-45f7-cf0d-4c3356175973",
        "colab": {
          "base_uri": "https://localhost:8080/",
          "height": 117
        }
      },
      "source": [
        "import os\n",
        "import tensorflow as tf\n",
        "import time\n",
        "import numpy as np # linear algebra\n",
        "import matplotlib.pyplot as plt\n",
        "import matplotlib.gridspec as gridspec\n",
        "from pathlib import Path\n",
        "\n",
        "# check tensorflow version\n",
        "print(tf.__version__)\n",
        "# Confirm tensorflow can see the GPU\n",
        "device_name = tf.test.gpu_device_name()\n",
        "print('Found GPU at: {}'.format(device_name))"
      ],
      "execution_count": 0,
      "outputs": [
        {
          "output_type": "display_data",
          "data": {
            "text/html": [
              "<p style=\"color: red;\">\n",
              "The default version of TensorFlow in Colab will switch to TensorFlow 2.x on the 27th of March, 2020.<br>\n",
              "We recommend you <a href=\"https://www.tensorflow.org/guide/migrate\" target=\"_blank\">upgrade</a> now\n",
              "or ensure your notebook will continue to use TensorFlow 1.x via the <code>%tensorflow_version 1.x</code> magic:\n",
              "<a href=\"https://colab.research.google.com/notebooks/tensorflow_version.ipynb\" target=\"_blank\">more info</a>.</p>\n"
            ],
            "text/plain": [
              "<IPython.core.display.HTML object>"
            ]
          },
          "metadata": {
            "tags": []
          }
        },
        {
          "output_type": "stream",
          "text": [
            "1.15.0\n",
            "Found GPU at: /device:GPU:0\n"
          ],
          "name": "stdout"
        }
      ]
    },
    {
      "cell_type": "code",
      "metadata": {
        "id": "FFssMfS_9MR1",
        "colab_type": "code",
        "colab": {}
      },
      "source": [
        "#222 images data image of shape 512*512=262144\n",
        "#images_size = 262144\n",
        "X = tf.placeholder(tf.float32, shape=[None, 262144])\n",
        "Z = tf.placeholder(tf.float32, shape=[None, 100])"
      ],
      "execution_count": 0,
      "outputs": []
    },
    {
      "cell_type": "markdown",
      "metadata": {
        "id": "FX4ZXfNv9MR-",
        "colab_type": "text"
      },
      "source": [
        "# Set up parameters for generator and discriminator"
      ]
    },
    {
      "cell_type": "code",
      "metadata": {
        "id": "3ppk9R6O9MSA",
        "colab_type": "code",
        "colab": {}
      },
      "source": [
        "# Generator\n",
        "# Define the variables for the generator, we will use them to build layers later\n",
        "# -------------------\n",
        "size_g_w1 = 100\n",
        "size_g_b1 = 512\n",
        "# A good way to decide the std for initializing the weights\n",
        "w1_std = 1.0/tf.sqrt(size_g_w1/2.0)\n",
        "\n",
        "G_W1 = tf.Variable(tf.random_normal(shape=[size_g_w1, size_g_b1], stddev=w1_std))\n",
        "G_b1 = tf.Variable(tf.zeros(shape=[size_g_b1]))\n",
        "\n",
        "size_g_w2 = 512\n",
        "size_g_b2 = 262144\n",
        "w2_std = 1.0/tf.sqrt(size_g_w2/2.0)\n",
        "\n",
        "G_W2 = tf.Variable(tf.random_normal(shape=[size_g_w2, size_g_b2], stddev=w2_std))\n",
        "G_b2 = tf.Variable(tf.zeros(shape=[size_g_b2]))\n",
        "# theta_G and theta_D will be feeded to different optimizers later as \"var_list\", \n",
        "# since currently we have two networks instead of one now.\n",
        "theta_G = [G_W1, G_W2, G_b1, G_b2]\n",
        "\n",
        "# ====================\n",
        "# Discriminator\n",
        "# Define the variables for the discriminator\n",
        "# --------------------\n",
        "size_d_w1 = 262144\n",
        "size_d_b1 = 512\n",
        "w1_std = 1.0/tf.sqrt(size_d_w1/2.0)\n",
        "\n",
        "D_W1 = tf.Variable(tf.random_normal(shape=[size_d_w1,size_d_b1], stddev=w1_std))\n",
        "D_b1 = tf.Variable(tf.zeros(shape=[size_d_b1]))\n",
        "\n",
        "size_d_w2 = 512\n",
        "size_d_b2 = 1\n",
        "w2_std = 1.0/tf.sqrt(size_d_w2/2.0)\n",
        "\n",
        "D_W2 = tf.Variable(tf.random_normal(shape=[size_d_w2,size_d_b2], stddev=w2_std))\n",
        "D_b2 = tf.Variable(tf.zeros(shape=[size_d_b2]))\n",
        "\n",
        "theta_D = [D_W1, D_W2, D_b1, D_b2]"
      ],
      "execution_count": 0,
      "outputs": []
    },
    {
      "cell_type": "markdown",
      "metadata": {
        "id": "zRGgrNne9MSG",
        "colab_type": "text"
      },
      "source": [
        "# Generator module"
      ]
    },
    {
      "cell_type": "code",
      "metadata": {
        "id": "xeDEJEt39MSH",
        "colab_type": "code",
        "colab": {}
      },
      "source": [
        "def generator(z):\n",
        "\n",
        "    G_h1 = tf.nn.relu(tf.matmul(z, G_W1) + G_b1)\n",
        "    G_logit = tf.matmul(G_h1, G_W2) + G_b2\n",
        "    G_prob = tf.nn.sigmoid(G_logit)\n",
        "\n",
        "    return G_prob, G_logit\n"
      ],
      "execution_count": 0,
      "outputs": []
    },
    {
      "cell_type": "markdown",
      "metadata": {
        "id": "5vidwBFv9MSL",
        "colab_type": "text"
      },
      "source": [
        "# Discriminator module"
      ]
    },
    {
      "cell_type": "code",
      "metadata": {
        "id": "wMFf-55G9MSM",
        "colab_type": "code",
        "colab": {}
      },
      "source": [
        "def discriminator(x):\n",
        "\n",
        "    D_h1 = tf.nn.relu(tf.matmul(x, D_W1) + D_b1)\n",
        "    D_logit = tf.matmul(D_h1, D_W2) + D_b2\n",
        "    D_prob = tf.nn.sigmoid(D_logit)\n",
        "\n",
        "    return D_prob, D_logit"
      ],
      "execution_count": 0,
      "outputs": []
    },
    {
      "cell_type": "markdown",
      "metadata": {
        "id": "3LiHxVFF9MSQ",
        "colab_type": "text"
      },
      "source": [
        "# Generate samples function"
      ]
    },
    {
      "cell_type": "code",
      "metadata": {
        "id": "cVrH9hmE9MSR",
        "colab_type": "code",
        "colab": {}
      },
      "source": [
        "def sample_z(m, n):\n",
        "    # randomly generate samples for generator\n",
        "    return np.random.uniform(-1.0, 1.0, size = [m, n])"
      ],
      "execution_count": 0,
      "outputs": []
    },
    {
      "cell_type": "markdown",
      "metadata": {
        "id": "-mYWnOpC9MSV",
        "colab_type": "text"
      },
      "source": [
        "# Plotting samples"
      ]
    },
    {
      "cell_type": "code",
      "metadata": {
        "id": "toUVjpAP9MSW",
        "colab_type": "code",
        "colab": {}
      },
      "source": [
        "def plot_sample(samples, size1, size2):\n",
        "    \n",
        "    fig1 = plt.figure(figsize=(size1, size2))\n",
        "    gs = gridspec.GridSpec(size1, size2)\n",
        "    gs.update(wspace=0.05, hspace=0.05)\n",
        "\n",
        "    for i, sample in enumerate(samples):\n",
        "        ax = plt.subplot(gs[i])\n",
        "        plt.axis('off')\n",
        "        ax.set_xticklabels([])\n",
        "        ax.set_yticklabels([])\n",
        "        ax.set_aspect('equal')\n",
        "        plt.imshow(sample.reshape(512, 512), cmap='gray')\n",
        "        # plt.imshow(sample.reshape(28, 28), cmap='gray')\n",
        "\n",
        "    return fig1"
      ],
      "execution_count": 0,
      "outputs": []
    },
    {
      "cell_type": "markdown",
      "metadata": {
        "id": "3FbmTEoL9MSa",
        "colab_type": "text"
      },
      "source": [
        "# Faciliate the path defining process"
      ]
    },
    {
      "cell_type": "code",
      "metadata": {
        "id": "fd9VuAdy9MSa",
        "colab_type": "code",
        "colab": {}
      },
      "source": [
        "# Though it's not possible to get the path to the notebook by __file__, os.path is still very useful in dealing with paths and files\n",
        "# In this case, we can use an alternative: pathlib.Path\n",
        "\"\"\"\n",
        "code_dir   = os.path.dirname(__file__)\n",
        "\"\"\"\n",
        "\n",
        "#get the current path of our code\n",
        "code_dir = Path().resolve()\n",
        "#create output_dir within the same path\n",
        "output_dir = os.path.join(code_dir, 'Problem1_a/')\n",
        "if not os.path.isdir(output_dir):\n",
        "   os.makedirs(output_dir)"
      ],
      "execution_count": 0,
      "outputs": []
    },
    {
      "cell_type": "markdown",
      "metadata": {
        "id": "wumFioEv9MSf",
        "colab_type": "text"
      },
      "source": [
        "# Use all images with random shuffling for training the GAN"
      ]
    },
    {
      "cell_type": "code",
      "metadata": {
        "id": "CUqAXgNn9MSf",
        "colab_type": "code",
        "colab": {}
      },
      "source": [
        "def next_batch(data, num):\n",
        "    '''\n",
        "    Return a total of `num` random samples \n",
        "    '''\n",
        "    #print(len(data))\n",
        "    idx = np.arange(0 , len(data))\n",
        "    np.random.shuffle(idx)\n",
        "    idx = idx[:num]\n",
        "    data_shuffle = np.array([data[i] for i in idx])\n",
        "\n",
        "    return data_shuffle"
      ],
      "execution_count": 0,
      "outputs": []
    },
    {
      "cell_type": "markdown",
      "metadata": {
        "id": "IhD4SeyQ9MSj",
        "colab_type": "text"
      },
      "source": [
        "# Read image file from given path"
      ]
    },
    {
      "cell_type": "code",
      "metadata": {
        "id": "mWNOHPgJ9MSk",
        "colab_type": "code",
        "outputId": "f8f4fcc2-b8a5-46bc-c76e-1e3c25ef4f55",
        "colab": {
          "base_uri": "https://localhost:8080/",
          "height": 53
        }
      },
      "source": [
        "sizePixel1 = 512\n",
        "sizePixel2 = sizePixel1*sizePixel1\n",
        "size_d = 32\n",
        "\n",
        "def read_tensor_from_image_file(path, input_height=sizePixel1, input_width=sizePixel1, input_mean=0, input_std=255):\n",
        "    \n",
        "    input_name = \"file_reader\"\n",
        "    output_name = \"normalized\"\n",
        "    file_reader = tf.read_file(path, input_name)\n",
        "    image_reader = tf.image.decode_png(file_reader, channels = 1)\n",
        "    float_caster = tf.cast(image_reader, tf.float32)\n",
        "    dims_expander = tf.expand_dims(float_caster, 0);\n",
        "    resized = tf.image.resize_bilinear(dims_expander, [input_height, input_width])\n",
        "    normalized = tf.divide(tf.subtract(resized, [input_mean]), [input_std])\n",
        "    sess = tf.Session()\n",
        "    result = sess.run(normalized)\n",
        "    return result \n",
        "\n",
        "\n",
        "nSeries = 222\n",
        "numInSeries = 1\n",
        "nImages = nSeries*numInSeries #222\n",
        "img  = np.zeros((nImages, sizePixel1*sizePixel1))\n",
        "counter = 0\n",
        "\n",
        "#get the current path of our code\n",
        "folder = Path().resolve()\n",
        "print('current path:',folder)\n",
        "\n",
        "for j in range(0,numInSeries):\n",
        "    for i in range(1,nSeries+1):\n",
        "        # print(counter,i,j)\n",
        "        fname = str(i) + '_' + str(j) + '.png'\n",
        "        path = './data/' + fname\n",
        "        orig_img = read_tensor_from_image_file(path)\n",
        "        # vectorize\n",
        "        img[counter] = orig_img.reshape(-1)\n",
        "        \n",
        "        # original size\n",
        "        # img[counter] = orig_img.reshape(sizePixel1,sizePixel1)\n",
        "        counter = counter+1\n",
        "\n",
        "print('Input image shape is:', img.shape)"
      ],
      "execution_count": 0,
      "outputs": [
        {
          "output_type": "stream",
          "text": [
            "current path: /content\n",
            "Input image shape is: (222, 262144)\n"
          ],
          "name": "stdout"
        }
      ]
    },
    {
      "cell_type": "markdown",
      "metadata": {
        "id": "ftk8qKIE9MSn",
        "colab_type": "text"
      },
      "source": [
        "# Build GNN with defined vars and functions"
      ]
    },
    {
      "cell_type": "code",
      "metadata": {
        "id": "z_ExDbBF9MSo",
        "colab_type": "code",
        "outputId": "5ed668e8-82b9-42cf-fc19-e7cced8f1286",
        "colab": {
          "base_uri": "https://localhost:8080/",
          "height": 91
        }
      },
      "source": [
        "# Put randomly generated sample Z into the generator to create \"fake\" images\n",
        "G_sample, _ = generator(Z)\n",
        "# The result of discriminator of real and fake samples\n",
        "_, D_logit_real = discriminator(X)\n",
        "_, D_logit_fake = discriminator(G_sample)\n",
        "\n",
        "# generator loss \n",
        "# the goal of generator is to let discriminator make more mistakes on fake samples\n",
        "# tf.ones_like returns a tensor with all elements set to 1\n",
        "# 0 represent fake and 1 means real\n",
        "G_loss = tf.reduce_mean(tf.nn.sigmoid_cross_entropy_with_logits(logits=D_logit_fake, labels=tf.ones_like(D_logit_fake)))\n",
        "G_solver = tf.train.AdamOptimizer().minimize(G_loss, var_list=theta_G)\n",
        "\n",
        "# discriminator loss \n",
        "D_loss_real = tf.reduce_mean(tf.nn.sigmoid_cross_entropy_with_logits(logits=D_logit_real, labels=tf.ones_like(D_logit_real)))\n",
        "D_loss_fake = tf.reduce_mean(tf.nn.sigmoid_cross_entropy_with_logits(logits=D_logit_fake, labels=tf.zeros_like(D_logit_fake)))\n",
        "D_loss = D_loss_real + D_loss_fake\n",
        "D_solver = tf.train.AdamOptimizer().minimize(D_loss, var_list=theta_D)"
      ],
      "execution_count": 0,
      "outputs": [
        {
          "output_type": "stream",
          "text": [
            "WARNING:tensorflow:From /usr/local/lib/python3.6/dist-packages/tensorflow_core/python/ops/nn_impl.py:183: where (from tensorflow.python.ops.array_ops) is deprecated and will be removed in a future version.\n",
            "Instructions for updating:\n",
            "Use tf.where in 2.0, which has the same broadcast rule as np.where\n"
          ],
          "name": "stdout"
        }
      ]
    },
    {
      "cell_type": "markdown",
      "metadata": {
        "id": "s3_Ff4OO9MSr",
        "colab_type": "text"
      },
      "source": [
        "# Start the session"
      ]
    },
    {
      "cell_type": "code",
      "metadata": {
        "scrolled": true,
        "id": "zye72inH9MSr",
        "colab_type": "code",
        "outputId": "8810a374-5efc-4498-e248-7504d4b11848",
        "colab": {
          "base_uri": "https://localhost:8080/",
          "height": 1000
        }
      },
      "source": [
        "sess = tf.Session()\n",
        "sess.run(tf.global_variables_initializer())\n",
        "\n",
        "batch_size = 64\n",
        "# the dimension of the random samples\n",
        "z_dim = 100\n",
        "result_freq = 300\n",
        "# plot generators' output every figure_iter step\n",
        "figure_iter = 300\n",
        "max_iter = 30000\n",
        "size1 = 5\n",
        "size2 = 5\n",
        "i = 0\n",
        "\n",
        "discriminator_loss = np.empty(max_iter)\n",
        "generator_loss = np.empty(max_iter)\n",
        "\n",
        "for iter in range(max_iter):\n",
        "    \n",
        "    if iter % figure_iter == 0:\n",
        "        \n",
        "        # G_sample is a sample from the generator\n",
        "        samples = sess.run(G_sample, feed_dict={Z: sample_z(size1*size2, z_dim)})\n",
        "\n",
        "        fig1 = plot_sample(samples, size1, size2)\n",
        "        plt.savefig(output_dir + 'Problem1_a_' + str(i) + '.png', bbox_inches='tight')\n",
        "        i += 1\n",
        "        plt.close(fig1)\n",
        "\n",
        "    # batch_xs, _ = mnist.train.next_batch(batch_size)\n",
        "    batch_xs = next_batch(img, batch_size)\n",
        "\n",
        "    _, discriminator_loss[iter] = sess.run([D_solver, D_loss], feed_dict={X: batch_xs, Z: sample_z(batch_size, z_dim)})\n",
        "    _, generator_loss[iter]     = sess.run([G_solver, G_loss], feed_dict={Z: sample_z(batch_size, z_dim)})\n",
        "\n",
        "    if iter % result_freq == 0:\n",
        "        \n",
        "        print('iteration: {}'.format(iter))\n",
        "        print('D_loss: {:0.4}'.format(discriminator_loss[iter]))\n",
        "        print('G_loss: {:0.4}'.format(generator_loss[iter]))\n",
        "        print()"
      ],
      "execution_count": 12,
      "outputs": [
        {
          "output_type": "stream",
          "text": [
            "iteration: 0\n",
            "D_loss: 1.679\n",
            "G_loss: 508.1\n",
            "\n",
            "iteration: 300\n",
            "D_loss: 10.77\n",
            "G_loss: 1.379e+03\n",
            "\n",
            "iteration: 600\n",
            "D_loss: 0.001937\n",
            "G_loss: 494.5\n",
            "\n",
            "iteration: 900\n",
            "D_loss: 39.61\n",
            "G_loss: 508.7\n",
            "\n",
            "iteration: 1200\n",
            "D_loss: 1.932\n",
            "G_loss: 322.7\n",
            "\n",
            "iteration: 1500\n",
            "D_loss: 36.31\n",
            "G_loss: 175.8\n",
            "\n",
            "iteration: 1800\n",
            "D_loss: 9.365\n",
            "G_loss: 25.86\n",
            "\n",
            "iteration: 2100\n",
            "D_loss: 58.07\n",
            "G_loss: 79.37\n",
            "\n",
            "iteration: 2400\n",
            "D_loss: 0.0001637\n",
            "G_loss: 63.51\n",
            "\n",
            "iteration: 2700\n",
            "D_loss: 1.069\n",
            "G_loss: 125.1\n",
            "\n",
            "iteration: 3000\n",
            "D_loss: 4.331\n",
            "G_loss: 74.3\n",
            "\n",
            "iteration: 3300\n",
            "D_loss: 0.5744\n",
            "G_loss: 79.26\n",
            "\n",
            "iteration: 3600\n",
            "D_loss: 1.159\n",
            "G_loss: 89.39\n",
            "\n",
            "iteration: 3900\n",
            "D_loss: 0.02072\n",
            "G_loss: 49.34\n",
            "\n",
            "iteration: 4200\n",
            "D_loss: 0.000607\n",
            "G_loss: 48.85\n",
            "\n",
            "iteration: 4500\n",
            "D_loss: 1.05\n",
            "G_loss: 58.82\n",
            "\n",
            "iteration: 4800\n",
            "D_loss: 0.7763\n",
            "G_loss: 106.9\n",
            "\n",
            "iteration: 5100\n",
            "D_loss: 1.115\n",
            "G_loss: 58.22\n",
            "\n",
            "iteration: 5400\n",
            "D_loss: 0.2532\n",
            "G_loss: 82.37\n",
            "\n",
            "iteration: 5700\n",
            "D_loss: 0.8361\n",
            "G_loss: 49.32\n",
            "\n",
            "iteration: 6000\n",
            "D_loss: 0.1982\n",
            "G_loss: 40.8\n",
            "\n",
            "iteration: 6300\n",
            "D_loss: 0.0028\n",
            "G_loss: 41.91\n",
            "\n",
            "iteration: 6600\n",
            "D_loss: 0.445\n",
            "G_loss: 26.41\n",
            "\n",
            "iteration: 6900\n",
            "D_loss: 0.05525\n",
            "G_loss: 46.52\n",
            "\n",
            "iteration: 7200\n",
            "D_loss: 0.5855\n",
            "G_loss: 22.32\n",
            "\n",
            "iteration: 7500\n",
            "D_loss: 0.14\n",
            "G_loss: 28.88\n",
            "\n",
            "iteration: 7800\n",
            "D_loss: 0.01297\n",
            "G_loss: 17.84\n",
            "\n",
            "iteration: 8100\n",
            "D_loss: 0.1621\n",
            "G_loss: 12.47\n",
            "\n",
            "iteration: 8400\n",
            "D_loss: 0.09729\n",
            "G_loss: 17.03\n",
            "\n",
            "iteration: 8700\n",
            "D_loss: 0.1335\n",
            "G_loss: 22.27\n",
            "\n",
            "iteration: 9000\n",
            "D_loss: 0.01872\n",
            "G_loss: 12.66\n",
            "\n",
            "iteration: 9300\n",
            "D_loss: 0.136\n",
            "G_loss: 16.49\n",
            "\n",
            "iteration: 9600\n",
            "D_loss: 0.1186\n",
            "G_loss: 15.05\n",
            "\n",
            "iteration: 9900\n",
            "D_loss: 0.004359\n",
            "G_loss: 8.553\n",
            "\n",
            "iteration: 10200\n",
            "D_loss: 0.1613\n",
            "G_loss: 4.329\n",
            "\n",
            "iteration: 10500\n",
            "D_loss: 0.04623\n",
            "G_loss: 7.243\n",
            "\n",
            "iteration: 10800\n",
            "D_loss: 0.1305\n",
            "G_loss: 5.834\n",
            "\n",
            "iteration: 11100\n",
            "D_loss: 0.05462\n",
            "G_loss: 3.871\n",
            "\n",
            "iteration: 11400\n",
            "D_loss: 0.06063\n",
            "G_loss: 4.45\n",
            "\n",
            "iteration: 11700\n",
            "D_loss: 0.05334\n",
            "G_loss: 4.432\n",
            "\n",
            "iteration: 12000\n",
            "D_loss: 0.02392\n",
            "G_loss: 5.07\n",
            "\n",
            "iteration: 12300\n",
            "D_loss: 0.0231\n",
            "G_loss: 4.835\n",
            "\n",
            "iteration: 12600\n",
            "D_loss: 0.1101\n",
            "G_loss: 3.72\n",
            "\n",
            "iteration: 12900\n",
            "D_loss: 0.04411\n",
            "G_loss: 4.053\n",
            "\n",
            "iteration: 13200\n",
            "D_loss: 0.1347\n",
            "G_loss: 5.22\n",
            "\n",
            "iteration: 13500\n",
            "D_loss: 0.6956\n",
            "G_loss: 37.86\n",
            "\n",
            "iteration: 13800\n",
            "D_loss: 0.4637\n",
            "G_loss: 29.08\n",
            "\n",
            "iteration: 14100\n",
            "D_loss: 0.1116\n",
            "G_loss: 5.832\n",
            "\n",
            "iteration: 14400\n",
            "D_loss: 0.03015\n",
            "G_loss: 5.799\n",
            "\n",
            "iteration: 14700\n",
            "D_loss: 0.01887\n",
            "G_loss: 5.046\n",
            "\n",
            "iteration: 15000\n",
            "D_loss: 0.02757\n",
            "G_loss: 4.649\n",
            "\n",
            "iteration: 15300\n",
            "D_loss: 0.0531\n",
            "G_loss: 4.538\n",
            "\n",
            "iteration: 15600\n",
            "D_loss: 0.05312\n",
            "G_loss: 3.854\n",
            "\n",
            "iteration: 15900\n",
            "D_loss: 0.01817\n",
            "G_loss: 4.721\n",
            "\n",
            "iteration: 16200\n",
            "D_loss: 0.03703\n",
            "G_loss: 4.466\n",
            "\n",
            "iteration: 16500\n",
            "D_loss: 0.01173\n",
            "G_loss: 5.501\n",
            "\n",
            "iteration: 16800\n",
            "D_loss: 0.01593\n",
            "G_loss: 4.505\n",
            "\n",
            "iteration: 17100\n",
            "D_loss: 0.00712\n",
            "G_loss: 5.323\n",
            "\n",
            "iteration: 17400\n",
            "D_loss: 0.007443\n",
            "G_loss: 5.107\n",
            "\n",
            "iteration: 17700\n",
            "D_loss: 0.09685\n",
            "G_loss: 6.045\n",
            "\n",
            "iteration: 18000\n",
            "D_loss: 0.5666\n",
            "G_loss: 10.18\n",
            "\n",
            "iteration: 18300\n",
            "D_loss: 0.09443\n",
            "G_loss: 6.471\n",
            "\n",
            "iteration: 18600\n",
            "D_loss: 0.01722\n",
            "G_loss: 5.343\n",
            "\n",
            "iteration: 18900\n",
            "D_loss: 0.02169\n",
            "G_loss: 5.948\n",
            "\n",
            "iteration: 19200\n",
            "D_loss: 6.346e-05\n",
            "G_loss: 12.18\n",
            "\n",
            "iteration: 19500\n",
            "D_loss: 0.06514\n",
            "G_loss: 4.644\n",
            "\n",
            "iteration: 19800\n",
            "D_loss: 0.02005\n",
            "G_loss: 4.475\n",
            "\n",
            "iteration: 20100\n",
            "D_loss: 0.108\n",
            "G_loss: 6.254\n",
            "\n",
            "iteration: 20400\n",
            "D_loss: 0.005862\n",
            "G_loss: 5.389\n",
            "\n",
            "iteration: 20700\n",
            "D_loss: 0.004284\n",
            "G_loss: 5.486\n",
            "\n",
            "iteration: 21000\n",
            "D_loss: 0.002747\n",
            "G_loss: 5.911\n",
            "\n",
            "iteration: 21300\n",
            "D_loss: 0.007232\n",
            "G_loss: 5.633\n",
            "\n",
            "iteration: 21600\n",
            "D_loss: 0.003309\n",
            "G_loss: 6.647\n",
            "\n",
            "iteration: 21900\n",
            "D_loss: 0.002863\n",
            "G_loss: 5.921\n",
            "\n",
            "iteration: 22200\n",
            "D_loss: 0.002368\n",
            "G_loss: 6.046\n",
            "\n",
            "iteration: 22500\n",
            "D_loss: 0.002215\n",
            "G_loss: 6.115\n",
            "\n",
            "iteration: 22800\n",
            "D_loss: 0.001992\n",
            "G_loss: 6.22\n",
            "\n",
            "iteration: 23100\n",
            "D_loss: 0.001794\n",
            "G_loss: 6.325\n",
            "\n",
            "iteration: 23400\n",
            "D_loss: 0.001608\n",
            "G_loss: 6.434\n",
            "\n",
            "iteration: 23700\n",
            "D_loss: 0.001439\n",
            "G_loss: 6.545\n",
            "\n",
            "iteration: 24000\n",
            "D_loss: 0.001285\n",
            "G_loss: 6.658\n",
            "\n",
            "iteration: 24300\n",
            "D_loss: 0.001145\n",
            "G_loss: 6.773\n",
            "\n",
            "iteration: 24600\n",
            "D_loss: 0.00102\n",
            "G_loss: 6.889\n",
            "\n",
            "iteration: 24900\n",
            "D_loss: 0.0009064\n",
            "G_loss: 7.007\n",
            "\n",
            "iteration: 25200\n",
            "D_loss: 0.0008051\n",
            "G_loss: 7.125\n",
            "\n",
            "iteration: 25500\n",
            "D_loss: 0.0007144\n",
            "G_loss: 7.245\n",
            "\n",
            "iteration: 25800\n",
            "D_loss: 0.0006247\n",
            "G_loss: 7.379\n",
            "\n",
            "iteration: 26100\n",
            "D_loss: 0.0005576\n",
            "G_loss: 7.493\n",
            "\n",
            "iteration: 26400\n",
            "D_loss: 0.000498\n",
            "G_loss: 7.605\n",
            "\n",
            "iteration: 26700\n",
            "D_loss: 0.0004433\n",
            "G_loss: 7.722\n",
            "\n",
            "iteration: 27000\n",
            "D_loss: 0.0004003\n",
            "G_loss: 7.824\n",
            "\n",
            "iteration: 27300\n",
            "D_loss: 0.000358\n",
            "G_loss: 7.935\n",
            "\n",
            "iteration: 27600\n",
            "D_loss: 0.0003166\n",
            "G_loss: 8.052\n",
            "\n",
            "iteration: 27900\n",
            "D_loss: 0.0002816\n",
            "G_loss: 8.169\n",
            "\n",
            "iteration: 28200\n",
            "D_loss: 0.0002929\n",
            "G_loss: 8.281\n",
            "\n",
            "iteration: 28500\n",
            "D_loss: 1.633\n",
            "G_loss: 198.6\n",
            "\n",
            "iteration: 28800\n",
            "D_loss: 0.2658\n",
            "G_loss: 72.91\n",
            "\n",
            "iteration: 29100\n",
            "D_loss: 0.01637\n",
            "G_loss: 12.89\n",
            "\n",
            "iteration: 29400\n",
            "D_loss: 0.1264\n",
            "G_loss: 13.97\n",
            "\n",
            "iteration: 29700\n",
            "D_loss: 0.00067\n",
            "G_loss: 12.98\n",
            "\n"
          ],
          "name": "stdout"
        }
      ]
    },
    {
      "cell_type": "code",
      "metadata": {
        "id": "cyieLT_09MSx",
        "colab_type": "code",
        "outputId": "dbe2d008-5fbb-49a0-d13a-4468b100d51d",
        "colab": {
          "base_uri": "https://localhost:8080/",
          "height": 279
        }
      },
      "source": [
        "plt.figure(1)\n",
        "plt.subplot(2, 1, 1)\n",
        "plt.plot(np.arange(max_iter), discriminator_loss, 'r-', label='discriminator_loss')\n",
        "plt.xlabel('number of iterations')\n",
        "plt.ylabel('GANs loss')\n",
        "plt.legend()\n",
        "plt.grid(True)\n",
        "\n",
        "plt.subplot(2, 1, 2)\n",
        "plt.plot(np.arange(max_iter), generator_loss, 'b-', label='generator_loss')\n",
        "plt.xlabel('number of iterations')\n",
        "plt.ylabel('GANs loss')\n",
        "plt.legend()\n",
        "plt.grid(True)\n",
        "plt.show()"
      ],
      "execution_count": 13,
      "outputs": [
        {
          "output_type": "display_data",
          "data": {
            "image/png": "[encoded data removed]",
            "text/plain": [
              "<Figure size 432x288 with 2 Axes>"
            ]
          },
          "metadata": {
            "tags": [],
            "needs_background": "light"
          }
        }
      ]
    },
    {
      "cell_type": "code",
      "metadata": {
        "id": "NcgASBkNL5_m",
        "colab_type": "code",
        "colab": {
          "base_uri": "https://localhost:8080/",
          "height": 1000
        },
        "outputId": "a5e21e16-e1fa-472b-d843-4915deee4242"
      },
      "source": [
        "!zip -r /content/Problem1_a.zip /content/Problem1_a\n",
        "# !zip -r /content/file.zip /content/Folder_To_Zip\n",
        "# from google.colab import files\n",
        "# files.download(\"/content/file.zip\")\n"
      ],
      "execution_count": 14,
      "outputs": [
        {
          "output_type": "stream",
          "text": [
            "  adding: content/Problem1_a/ (stored 0%)\n",
            "  adding: content/Problem1_a/Problem1_a_16.png (deflated 4%)\n",
            "  adding: content/Problem1_a/Problem1_a_71.png (deflated 4%)\n",
            "  adding: content/Problem1_a/Problem1_a_5.png (deflated 4%)\n",
            "  adding: content/Problem1_a/Problem1_a_73.png (deflated 5%)\n",
            "  adding: content/Problem1_a/Problem1_a_40.png (deflated 1%)\n",
            "  adding: content/Problem1_a/Problem1_a_42.png (deflated 0%)\n",
            "  adding: content/Problem1_a/Problem1_a_92.png (deflated 5%)\n",
            "  adding: content/Problem1_a/Problem1_a_59.png (deflated 1%)\n",
            "  adding: content/Problem1_a/Problem1_a_67.png (deflated 4%)\n",
            "  adding: content/Problem1_a/Problem1_a_20.png (deflated 4%)\n",
            "  adding: content/Problem1_a/Problem1_a_82.png (deflated 5%)\n",
            "  adding: content/Problem1_a/Problem1_a_36.png (deflated 2%)\n",
            "  adding: content/Problem1_a/Problem1_a_0.png (deflated 1%)\n",
            "  adding: content/Problem1_a/Problem1_a_81.png (deflated 5%)\n",
            "  adding: content/Problem1_a/Problem1_a_65.png (deflated 2%)\n",
            "  adding: content/Problem1_a/Problem1_a_95.png (deflated 3%)\n",
            "  adding: content/Problem1_a/Problem1_a_54.png (deflated 1%)\n",
            "  adding: content/Problem1_a/Problem1_a_37.png (deflated 1%)\n",
            "  adding: content/Problem1_a/Problem1_a_69.png (deflated 5%)\n",
            "  adding: content/Problem1_a/Problem1_a_77.png (deflated 5%)\n",
            "  adding: content/Problem1_a/Problem1_a_64.png (deflated 2%)\n",
            "  adding: content/Problem1_a/Problem1_a_4.png (deflated 3%)\n",
            "  adding: content/Problem1_a/Problem1_a_44.png (deflated 1%)\n",
            "  adding: content/Problem1_a/Problem1_a_29.png (deflated 4%)\n",
            "  adding: content/Problem1_a/Problem1_a_51.png (deflated 1%)\n",
            "  adding: content/Problem1_a/Problem1_a_19.png (deflated 4%)\n",
            "  adding: content/Problem1_a/Problem1_a_17.png (deflated 5%)\n",
            "  adding: content/Problem1_a/Problem1_a_91.png (deflated 6%)\n",
            "  adding: content/Problem1_a/Problem1_a_80.png (deflated 5%)\n",
            "  adding: content/Problem1_a/Problem1_a_87.png (deflated 5%)\n",
            "  adding: content/Problem1_a/Problem1_a_56.png (deflated 1%)\n",
            "  adding: content/Problem1_a/Problem1_a_33.png (deflated 2%)\n",
            "  adding: content/Problem1_a/Problem1_a_66.png (deflated 2%)\n",
            "  adding: content/Problem1_a/Problem1_a_68.png (deflated 5%)\n",
            "  adding: content/Problem1_a/Problem1_a_26.png (deflated 5%)\n",
            "  adding: content/Problem1_a/Problem1_a_46.png (deflated 1%)\n",
            "  adding: content/Problem1_a/Problem1_a_98.png (deflated 1%)\n",
            "  adding: content/Problem1_a/Problem1_a_2.png (deflated 4%)\n",
            "  adding: content/Problem1_a/Problem1_a_10.png (deflated 3%)\n",
            "  adding: content/Problem1_a/Problem1_a_12.png (deflated 4%)\n",
            "  adding: content/Problem1_a/Problem1_a_49.png (deflated 2%)\n",
            "  adding: content/Problem1_a/Problem1_a_11.png (deflated 2%)\n",
            "  adding: content/Problem1_a/Problem1_a_24.png (deflated 4%)\n",
            "  adding: content/Problem1_a/Problem1_a_57.png (deflated 3%)\n",
            "  adding: content/Problem1_a/Problem1_a_47.png (deflated 2%)\n",
            "  adding: content/Problem1_a/Problem1_a_14.png (deflated 4%)\n",
            "  adding: content/Problem1_a/Problem1_a_99.png (deflated 1%)\n",
            "  adding: content/Problem1_a/Problem1_a_62.png (deflated 1%)\n",
            "  adding: content/Problem1_a/Problem1_a_96.png (deflated 3%)\n",
            "  adding: content/Problem1_a/Problem1_a_13.png (deflated 4%)\n",
            "  adding: content/Problem1_a/Problem1_a_83.png (deflated 5%)\n",
            "  adding: content/Problem1_a/Problem1_a_93.png (deflated 6%)\n",
            "  adding: content/Problem1_a/Problem1_a_45.png (deflated 2%)\n",
            "  adding: content/Problem1_a/Problem1_a_6.png (deflated 2%)\n",
            "  adding: content/Problem1_a/Problem1_a_3.png (deflated 6%)\n",
            "  adding: content/Problem1_a/Problem1_a_27.png (deflated 4%)\n",
            "  adding: content/Problem1_a/Problem1_a_84.png (deflated 5%)\n",
            "  adding: content/Problem1_a/Problem1_a_75.png (deflated 6%)\n",
            "  adding: content/Problem1_a/Problem1_a_72.png (deflated 5%)\n",
            "  adding: content/Problem1_a/Problem1_a_55.png (deflated 1%)\n",
            "  adding: content/Problem1_a/Problem1_a_61.png (deflated 1%)\n",
            "  adding: content/Problem1_a/Problem1_a_48.png (deflated 1%)\n",
            "  adding: content/Problem1_a/Problem1_a_39.png (deflated 1%)\n",
            "  adding: content/Problem1_a/Problem1_a_18.png (deflated 4%)\n",
            "  adding: content/Problem1_a/Problem1_a_76.png (deflated 5%)\n",
            "  adding: content/Problem1_a/Problem1_a_63.png (deflated 3%)\n",
            "  adding: content/Problem1_a/Problem1_a_58.png (deflated 2%)\n",
            "  adding: content/Problem1_a/Problem1_a_7.png (deflated 2%)\n",
            "  adding: content/Problem1_a/Problem1_a_28.png (deflated 4%)\n",
            "  adding: content/Problem1_a/Problem1_a_1.png (deflated 4%)\n",
            "  adding: content/Problem1_a/Problem1_a_38.png (deflated 1%)\n",
            "  adding: content/Problem1_a/Problem1_a_97.png (deflated 2%)\n",
            "  adding: content/Problem1_a/Problem1_a_94.png (deflated 5%)\n",
            "  adding: content/Problem1_a/Problem1_a_70.png (deflated 4%)\n",
            "  adding: content/Problem1_a/Problem1_a_32.png (deflated 3%)\n",
            "  adding: content/Problem1_a/Problem1_a_52.png (deflated 1%)\n",
            "  adding: content/Problem1_a/Problem1_a_30.png (deflated 3%)\n",
            "  adding: content/Problem1_a/Problem1_a_86.png (deflated 4%)\n",
            "  adding: content/Problem1_a/Problem1_a_34.png (deflated 2%)\n",
            "  adding: content/Problem1_a/Problem1_a_90.png (deflated 6%)\n",
            "  adding: content/Problem1_a/Problem1_a_15.png (deflated 4%)\n",
            "  adding: content/Problem1_a/Problem1_a_79.png (deflated 5%)\n",
            "  adding: content/Problem1_a/Problem1_a_60.png (deflated 1%)\n",
            "  adding: content/Problem1_a/Problem1_a_9.png (deflated 3%)\n",
            "  adding: content/Problem1_a/Problem1_a_89.png (deflated 5%)\n",
            "  adding: content/Problem1_a/Problem1_a_35.png (deflated 1%)\n",
            "  adding: content/Problem1_a/Problem1_a_31.png (deflated 3%)\n",
            "  adding: content/Problem1_a/Problem1_a_78.png (deflated 5%)\n",
            "  adding: content/Problem1_a/Problem1_a_25.png (deflated 4%)\n",
            "  adding: content/Problem1_a/Problem1_a_85.png (deflated 5%)\n",
            "  adding: content/Problem1_a/Problem1_a_23.png (deflated 5%)\n",
            "  adding: content/Problem1_a/Problem1_a_8.png (deflated 2%)\n",
            "  adding: content/Problem1_a/Problem1_a_88.png (deflated 5%)\n",
            "  adding: content/Problem1_a/Problem1_a_22.png (deflated 4%)\n",
            "  adding: content/Problem1_a/Problem1_a_43.png (deflated 0%)\n",
            "  adding: content/Problem1_a/Problem1_a_41.png (deflated 0%)\n",
            "  adding: content/Problem1_a/Problem1_a_50.png (deflated 1%)\n",
            "  adding: content/Problem1_a/Problem1_a_53.png (deflated 1%)\n",
            "  adding: content/Problem1_a/Problem1_a_74.png (deflated 5%)\n",
            "  adding: content/Problem1_a/Problem1_a_21.png (deflated 4%)\n"
          ],
          "name": "stdout"
        }
      ]
    },
    {
      "cell_type": "code",
      "metadata": {
        "id": "Uaw2Pz0IKCI9",
        "colab_type": "code",
        "outputId": "f6993152-29fb-470b-c40b-0ce242360d1d",
        "colab": {
          "base_uri": "https://localhost:8080/",
          "height": 35
        }
      },
      "source": [
        "!ls\n",
        "# !rm -rf /content/Problem1_a"
      ],
      "execution_count": 15,
      "outputs": [
        {
          "output_type": "stream",
          "text": [
            "data  Problem1_a  Problem1_a.zip  sample_data\n"
          ],
          "name": "stdout"
        }
      ]
    },
    {
      "cell_type": "code",
      "metadata": {
        "id": "L2kLK1UVyOgR",
        "colab_type": "code",
        "colab": {}
      },
      "source": [
        ""
      ],
      "execution_count": 0,
      "outputs": []
    }
  ]
}