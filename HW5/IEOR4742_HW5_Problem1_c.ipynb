{
  "nbformat": 4,
  "nbformat_minor": 0,
  "metadata": {
    "kernelspec": {
      "display_name": "Python 3",
      "language": "python",
      "name": "python3"
    },
    "language_info": {
      "codemirror_mode": {
        "name": "ipython",
        "version": 3
      },
      "file_extension": ".py",
      "mimetype": "text/x-python",
      "name": "python",
      "nbconvert_exporter": "python",
      "pygments_lexer": "ipython3",
      "version": "3.7.4"
    },
    "toc": {
      "base_numbering": 1,
      "nav_menu": {},
      "number_sections": true,
      "sideBar": true,
      "skip_h1_title": false,
      "title_cell": "Table of Contents",
      "title_sidebar": "Contents",
      "toc_cell": false,
      "toc_position": {},
      "toc_section_display": true,
      "toc_window_display": false
    },
    "colab": {
      "name": "IEOR4742_HW5_Problem1.ipynb",
      "provenance": [],
      "collapsed_sections": []
    },
    "accelerator": "GPU"
  },
  "cells": [
    {
      "cell_type": "code",
      "metadata": {
        "id": "bbYcqcoQ9V0H",
        "colab_type": "code",
        "colab": {}
      },
      "source": [
        "!pip install tensorflow-gpu==1.15.0 # GPU Version"
      ],
      "execution_count": 0,
      "outputs": []
    },
    {
      "cell_type": "markdown",
      "metadata": {
        "id": "c6gSIIpp9MQY",
        "colab_type": "text"
      },
      "source": [
        "# Import"
      ]
    },
    {
      "cell_type": "code",
      "metadata": {
        "id": "wV5zNh5R9MQb",
        "colab_type": "code",
        "outputId": "8c5021f8-9a91-43a9-c51a-b76174444c59",
        "colab": {
          "base_uri": "https://localhost:8080/",
          "height": 53
        }
      },
      "source": [
        "import os\n",
        "import tensorflow as tf\n",
        "import time\n",
        "import numpy as np # linear algebra\n",
        "import matplotlib.pyplot as plt\n",
        "import matplotlib.gridspec as gridspec\n",
        "from pathlib import Path\n",
        "\n",
        "# check tensorflow version\n",
        "print(tf.__version__)\n",
        "# Confirm tensorflow can see the GPU\n",
        "device_name = tf.test.gpu_device_name()\n",
        "print('Found GPU at: {}'.format(device_name))"
      ],
      "execution_count": 1,
      "outputs": [
        {
          "output_type": "stream",
          "text": [
            "1.15.0\n",
            "Found GPU at: /device:GPU:0\n"
          ],
          "name": "stdout"
        }
      ]
    },
    {
      "cell_type": "code",
      "metadata": {
        "id": "FFssMfS_9MR1",
        "colab_type": "code",
        "colab": {}
      },
      "source": [
        "#888 images data image of shape 512*512=262144\n",
        "#images_size = 262144\n",
        "X = tf.placeholder(tf.float32, shape=[None, 262144])\n",
        "Z = tf.placeholder(tf.float32, shape=[None, 100])"
      ],
      "execution_count": 0,
      "outputs": []
    },
    {
      "cell_type": "markdown",
      "metadata": {
        "id": "FX4ZXfNv9MR-",
        "colab_type": "text"
      },
      "source": [
        "# Set up parameters for generator and discriminator"
      ]
    },
    {
      "cell_type": "code",
      "metadata": {
        "id": "3ppk9R6O9MSA",
        "colab_type": "code",
        "colab": {}
      },
      "source": [
        "# Generator\n",
        "# Define the variables for the generator, we will use them to build layers later\n",
        "# -------------------\n",
        "size_g_w1 = 100\n",
        "size_g_b1 = 512\n",
        "# A good way to decide the std for initializing the weights\n",
        "w1_std = 1.0/tf.sqrt(size_g_w1/2.0)\n",
        "\n",
        "G_W1 = tf.Variable(tf.random_normal(shape=[size_g_w1, size_g_b1], stddev=w1_std))\n",
        "G_b1 = tf.Variable(tf.zeros(shape=[size_g_b1]))\n",
        "\n",
        "size_g_w2 = 512\n",
        "size_g_b2 = 262144\n",
        "w2_std = 1.0/tf.sqrt(size_g_w2/2.0)\n",
        "\n",
        "G_W2 = tf.Variable(tf.random_normal(shape=[size_g_w2, size_g_b2], stddev=w2_std))\n",
        "G_b2 = tf.Variable(tf.zeros(shape=[size_g_b2]))\n",
        "# theta_G and theta_D will be feeded to different optimizers later as \"var_list\", \n",
        "# since currently we have two networks instead of one now.\n",
        "theta_G = [G_W1, G_W2, G_b1, G_b2]\n",
        "\n",
        "# ====================\n",
        "# Discriminator\n",
        "# Define the variables for the discriminator\n",
        "# --------------------\n",
        "size_d_w1 = 262144\n",
        "size_d_b1 = 512\n",
        "w1_std = 1.0/tf.sqrt(size_d_w1/2.0)\n",
        "\n",
        "D_W1 = tf.Variable(tf.random_normal(shape=[size_d_w1,size_d_b1], stddev=w1_std))\n",
        "D_b1 = tf.Variable(tf.zeros(shape=[size_d_b1]))\n",
        "\n",
        "size_d_w2 = 512\n",
        "size_d_b2 = 1\n",
        "w2_std = 1.0/tf.sqrt(size_d_w2/2.0)\n",
        "\n",
        "D_W2 = tf.Variable(tf.random_normal(shape=[size_d_w2,size_d_b2], stddev=w2_std))\n",
        "D_b2 = tf.Variable(tf.zeros(shape=[size_d_b2]))\n",
        "\n",
        "theta_D = [D_W1, D_W2, D_b1, D_b2]"
      ],
      "execution_count": 0,
      "outputs": []
    },
    {
      "cell_type": "markdown",
      "metadata": {
        "id": "zRGgrNne9MSG",
        "colab_type": "text"
      },
      "source": [
        "# Generator module"
      ]
    },
    {
      "cell_type": "code",
      "metadata": {
        "id": "xeDEJEt39MSH",
        "colab_type": "code",
        "colab": {}
      },
      "source": [
        "def generator(z):\n",
        "\n",
        "    G_h1 = tf.nn.relu(tf.matmul(z, G_W1) + G_b1)\n",
        "    G_logit = tf.matmul(G_h1, G_W2) + G_b2\n",
        "    G_prob = tf.nn.sigmoid(G_logit)\n",
        "\n",
        "    return G_prob, G_logit\n"
      ],
      "execution_count": 0,
      "outputs": []
    },
    {
      "cell_type": "markdown",
      "metadata": {
        "id": "5vidwBFv9MSL",
        "colab_type": "text"
      },
      "source": [
        "# Discriminator module"
      ]
    },
    {
      "cell_type": "code",
      "metadata": {
        "id": "wMFf-55G9MSM",
        "colab_type": "code",
        "colab": {}
      },
      "source": [
        "def discriminator(x):\n",
        "\n",
        "    D_h1 = tf.nn.relu(tf.matmul(x, D_W1) + D_b1)\n",
        "    D_logit = tf.matmul(D_h1, D_W2) + D_b2\n",
        "    D_prob = tf.nn.sigmoid(D_logit)\n",
        "\n",
        "    return D_prob, D_logit"
      ],
      "execution_count": 0,
      "outputs": []
    },
    {
      "cell_type": "markdown",
      "metadata": {
        "id": "3LiHxVFF9MSQ",
        "colab_type": "text"
      },
      "source": [
        "# Generate samples function"
      ]
    },
    {
      "cell_type": "code",
      "metadata": {
        "id": "cVrH9hmE9MSR",
        "colab_type": "code",
        "colab": {}
      },
      "source": [
        "def sample_z(m, n):\n",
        "    # randomly generate samples for generator\n",
        "    return np.random.uniform(-1.0, 1.0, size = [m, n])"
      ],
      "execution_count": 0,
      "outputs": []
    },
    {
      "cell_type": "markdown",
      "metadata": {
        "id": "-mYWnOpC9MSV",
        "colab_type": "text"
      },
      "source": [
        "# Plotting samples"
      ]
    },
    {
      "cell_type": "code",
      "metadata": {
        "id": "toUVjpAP9MSW",
        "colab_type": "code",
        "colab": {}
      },
      "source": [
        "def plot_sample(samples, size1, size2):\n",
        "    \n",
        "    fig1 = plt.figure(figsize=(size1, size2))\n",
        "    gs = gridspec.GridSpec(size1, size2)\n",
        "    gs.update(wspace=0.05, hspace=0.05)\n",
        "\n",
        "    for i, sample in enumerate(samples):\n",
        "        ax = plt.subplot(gs[i])\n",
        "        plt.axis('off')\n",
        "        ax.set_xticklabels([])\n",
        "        ax.set_yticklabels([])\n",
        "        ax.set_aspect('equal')\n",
        "        plt.imshow(sample.reshape(512, 512), cmap='gray')\n",
        "        # plt.imshow(sample.reshape(28, 28), cmap='gray')\n",
        "\n",
        "    return fig1"
      ],
      "execution_count": 0,
      "outputs": []
    },
    {
      "cell_type": "markdown",
      "metadata": {
        "id": "3FbmTEoL9MSa",
        "colab_type": "text"
      },
      "source": [
        "# Faciliate the path defining process"
      ]
    },
    {
      "cell_type": "code",
      "metadata": {
        "id": "fd9VuAdy9MSa",
        "colab_type": "code",
        "colab": {}
      },
      "source": [
        "# Though it's not possible to get the path to the notebook by __file__, os.path is still very useful in dealing with paths and files\n",
        "# In this case, we can use an alternative: pathlib.Path\n",
        "\"\"\"\n",
        "code_dir   = os.path.dirname(__file__)\n",
        "\"\"\"\n",
        "\n",
        "#get the current path of our code\n",
        "code_dir = Path().resolve()\n",
        "#create output_dir within the same path\n",
        "output_dir = os.path.join(code_dir, 'Problem1_c/')\n",
        "if not os.path.isdir(output_dir):\n",
        "   os.makedirs(output_dir)"
      ],
      "execution_count": 0,
      "outputs": []
    },
    {
      "cell_type": "markdown",
      "metadata": {
        "id": "wumFioEv9MSf",
        "colab_type": "text"
      },
      "source": [
        "# Use all images with random shuffling for training the GAN"
      ]
    },
    {
      "cell_type": "code",
      "metadata": {
        "id": "CUqAXgNn9MSf",
        "colab_type": "code",
        "colab": {}
      },
      "source": [
        "def next_batch(data, num):\n",
        "    '''\n",
        "    Return a total of `num` random samples \n",
        "    '''\n",
        "    #print(len(data))\n",
        "    idx = np.arange(0 , len(data))\n",
        "    np.random.shuffle(idx)\n",
        "    idx = idx[:num]\n",
        "    data_shuffle = np.array([data[i] for i in idx])\n",
        "\n",
        "    return data_shuffle"
      ],
      "execution_count": 0,
      "outputs": []
    },
    {
      "cell_type": "markdown",
      "metadata": {
        "id": "IhD4SeyQ9MSj",
        "colab_type": "text"
      },
      "source": [
        "# Read image file from given path"
      ]
    },
    {
      "cell_type": "code",
      "metadata": {
        "id": "mWNOHPgJ9MSk",
        "colab_type": "code",
        "outputId": "2565fd40-e094-4450-b365-b77d84c35251",
        "colab": {
          "base_uri": "https://localhost:8080/",
          "height": 53
        }
      },
      "source": [
        "sizePixel1 = 512\n",
        "sizePixel2 = sizePixel1*sizePixel1\n",
        "size_d = 32\n",
        "\n",
        "def read_tensor_from_image_file(path, input_height=sizePixel1, input_width=sizePixel1, input_mean=0, input_std=255):\n",
        "    \n",
        "    input_name = \"file_reader\"\n",
        "    output_name = \"normalized\"\n",
        "    file_reader = tf.read_file(path, input_name)\n",
        "    image_reader = tf.image.decode_png(file_reader, channels = 1)\n",
        "    float_caster = tf.cast(image_reader, tf.float32)\n",
        "    dims_expander = tf.expand_dims(float_caster, 0);\n",
        "    resized = tf.image.resize_bilinear(dims_expander, [input_height, input_width])\n",
        "    normalized = tf.divide(tf.subtract(resized, [input_mean]), [input_std])\n",
        "    sess = tf.Session()\n",
        "    result = sess.run(normalized)\n",
        "    return result \n",
        "\n",
        "\n",
        "nSeries = 222\n",
        "numInSeries = 4\n",
        "nImages = nSeries*numInSeries #222*4\n",
        "img  = np.zeros((nImages, sizePixel1*sizePixel1))\n",
        "counter = 0\n",
        "\n",
        "#get the current path of our code\n",
        "folder = Path().resolve()\n",
        "print('current path:',folder)\n",
        "\n",
        "for j in range(0,numInSeries):\n",
        "    for i in range(1,nSeries+1):\n",
        "        # print(counter,i,j)\n",
        "        fname = str(i) + '_' + str(j) + '.png'\n",
        "        path = './data/' + fname\n",
        "        orig_img = read_tensor_from_image_file(path)\n",
        "        # vectorize\n",
        "        img[counter] = orig_img.reshape(-1)\n",
        "        \n",
        "        # original size\n",
        "        # img[counter] = orig_img.reshape(sizePixel1,sizePixel1)\n",
        "        counter = counter+1\n",
        "\n",
        "print('Input image shape is:', img.shape)"
      ],
      "execution_count": 10,
      "outputs": [
        {
          "output_type": "stream",
          "text": [
            "current path: /content\n",
            "Input image shape is: (888, 262144)\n"
          ],
          "name": "stdout"
        }
      ]
    },
    {
      "cell_type": "markdown",
      "metadata": {
        "id": "ftk8qKIE9MSn",
        "colab_type": "text"
      },
      "source": [
        "# Build GAN with defined vars and functions"
      ]
    },
    {
      "cell_type": "code",
      "metadata": {
        "id": "z_ExDbBF9MSo",
        "colab_type": "code",
        "outputId": "5aff7a53-14d3-40dd-f51e-f56b3f259364",
        "colab": {
          "base_uri": "https://localhost:8080/",
          "height": 91
        }
      },
      "source": [
        "# Put randomly generated sample Z into the generator to create \"fake\" images\n",
        "G_sample, _ = generator(Z)\n",
        "# The result of discriminator of real and fake samples\n",
        "_, D_logit_real = discriminator(X)\n",
        "_, D_logit_fake = discriminator(G_sample)\n",
        "\n",
        "# generator loss \n",
        "# the goal of generator is to let discriminator make more mistakes on fake samples\n",
        "# tf.ones_like returns a tensor with all elements set to 1\n",
        "# 0 represent fake and 1 means real\n",
        "G_loss = tf.reduce_mean(tf.nn.sigmoid_cross_entropy_with_logits(logits=D_logit_fake, labels=tf.ones_like(D_logit_fake)))\n",
        "G_solver = tf.train.AdamOptimizer().minimize(G_loss, var_list=theta_G)\n",
        "\n",
        "# discriminator loss \n",
        "D_loss_real = tf.reduce_mean(tf.nn.sigmoid_cross_entropy_with_logits(logits=D_logit_real, labels=tf.ones_like(D_logit_real)))\n",
        "D_loss_fake = tf.reduce_mean(tf.nn.sigmoid_cross_entropy_with_logits(logits=D_logit_fake, labels=tf.zeros_like(D_logit_fake)))\n",
        "D_loss = D_loss_real + D_loss_fake\n",
        "D_solver = tf.train.AdamOptimizer().minimize(D_loss, var_list=theta_D)"
      ],
      "execution_count": 11,
      "outputs": [
        {
          "output_type": "stream",
          "text": [
            "WARNING:tensorflow:From /usr/local/lib/python3.6/dist-packages/tensorflow_core/python/ops/nn_impl.py:183: where (from tensorflow.python.ops.array_ops) is deprecated and will be removed in a future version.\n",
            "Instructions for updating:\n",
            "Use tf.where in 2.0, which has the same broadcast rule as np.where\n"
          ],
          "name": "stdout"
        }
      ]
    },
    {
      "cell_type": "markdown",
      "metadata": {
        "id": "s3_Ff4OO9MSr",
        "colab_type": "text"
      },
      "source": [
        "# Start the session"
      ]
    },
    {
      "cell_type": "code",
      "metadata": {
        "scrolled": true,
        "id": "zye72inH9MSr",
        "colab_type": "code",
        "outputId": "3f0e341f-0ea4-433d-f3e3-a6cc1ec7c388",
        "colab": {
          "base_uri": "https://localhost:8080/",
          "height": 1000
        }
      },
      "source": [
        "sess = tf.Session()\n",
        "sess.run(tf.global_variables_initializer())\n",
        "\n",
        "batch_size = 256\n",
        "# the dimension of the random samples\n",
        "z_dim = 100\n",
        "result_freq = 100\n",
        "# plot generators' output every figure_iter step\n",
        "figure_iter = 100\n",
        "max_iter = 10000\n",
        "size1 = 5\n",
        "size2 = 5\n",
        "i = 0\n",
        "\n",
        "discriminator_loss = np.empty(max_iter)\n",
        "generator_loss = np.empty(max_iter)\n",
        "\n",
        "for iter in range(max_iter):\n",
        "    \n",
        "    if iter % figure_iter == 0:\n",
        "        \n",
        "        # G_sample is a sample from the generator\n",
        "        samples = sess.run(G_sample, feed_dict={Z: sample_z(size1*size2, z_dim)})\n",
        "\n",
        "        fig1 = plot_sample(samples, size1, size2)\n",
        "        plt.savefig(output_dir + 'Problem1_c_' + str(i) + '.png', bbox_inches='tight')\n",
        "        i += 1\n",
        "        plt.close(fig1)\n",
        "\n",
        "    # batch_xs, _ = mnist.train.next_batch(batch_size)\n",
        "    batch_xs = next_batch(img, batch_size)\n",
        "\n",
        "    _, discriminator_loss[iter] = sess.run([D_solver, D_loss], feed_dict={X: batch_xs, Z: sample_z(batch_size, z_dim)})\n",
        "    _, generator_loss[iter]     = sess.run([G_solver, G_loss], feed_dict={Z: sample_z(batch_size, z_dim)})\n",
        "\n",
        "    if iter % result_freq == 0:\n",
        "        \n",
        "        print('iteration: {}'.format(iter))\n",
        "        print('D_loss: {:0.4}'.format(discriminator_loss[iter]))\n",
        "        print('G_loss: {:0.4}'.format(generator_loss[iter]))\n",
        "        print()"
      ],
      "execution_count": 12,
      "outputs": [
        {
          "output_type": "stream",
          "text": [
            "iteration: 0\n",
            "D_loss: 1.352\n",
            "G_loss: 331.2\n",
            "\n",
            "iteration: 100\n",
            "D_loss: 58.05\n",
            "G_loss: 827.8\n",
            "\n",
            "iteration: 200\n",
            "D_loss: 28.05\n",
            "G_loss: 632.3\n",
            "\n",
            "iteration: 300\n",
            "D_loss: 18.49\n",
            "G_loss: 1.215e+03\n",
            "\n",
            "iteration: 400\n",
            "D_loss: 5.329\n",
            "G_loss: 1.344e+03\n",
            "\n",
            "iteration: 500\n",
            "D_loss: 0.5243\n",
            "G_loss: 538.7\n",
            "\n",
            "iteration: 600\n",
            "D_loss: 0.0509\n",
            "G_loss: 222.5\n",
            "\n",
            "iteration: 700\n",
            "D_loss: 1.083e-06\n",
            "G_loss: 542.7\n",
            "\n",
            "iteration: 800\n",
            "D_loss: 1.338\n",
            "G_loss: 1.333e+03\n",
            "\n",
            "iteration: 900\n",
            "D_loss: 12.89\n",
            "G_loss: 499.7\n",
            "\n",
            "iteration: 1000\n",
            "D_loss: 10.26\n",
            "G_loss: 281.6\n",
            "\n",
            "iteration: 1100\n",
            "D_loss: 2.142\n",
            "G_loss: 155.0\n",
            "\n",
            "iteration: 1200\n",
            "D_loss: 0.5516\n",
            "G_loss: 244.1\n",
            "\n",
            "iteration: 1300\n",
            "D_loss: 0.4704\n",
            "G_loss: 181.2\n",
            "\n",
            "iteration: 1400\n",
            "D_loss: 0.2816\n",
            "G_loss: 125.2\n",
            "\n",
            "iteration: 1500\n",
            "D_loss: 26.57\n",
            "G_loss: 47.54\n",
            "\n",
            "iteration: 1600\n",
            "D_loss: 13.34\n",
            "G_loss: 9.661\n",
            "\n",
            "iteration: 1700\n",
            "D_loss: 2.111\n",
            "G_loss: 97.64\n",
            "\n",
            "iteration: 1800\n",
            "D_loss: 1.385\n",
            "G_loss: 118.9\n",
            "\n",
            "iteration: 1900\n",
            "D_loss: 0.1114\n",
            "G_loss: 139.3\n",
            "\n",
            "iteration: 2000\n",
            "D_loss: 3.262\n",
            "G_loss: 93.59\n",
            "\n",
            "iteration: 2100\n",
            "D_loss: 57.98\n",
            "G_loss: 37.03\n",
            "\n",
            "iteration: 2200\n",
            "D_loss: 5.707\n",
            "G_loss: 28.32\n",
            "\n",
            "iteration: 2300\n",
            "D_loss: 14.07\n",
            "G_loss: 75.12\n",
            "\n",
            "iteration: 2400\n",
            "D_loss: 13.35\n",
            "G_loss: 81.82\n",
            "\n",
            "iteration: 2500\n",
            "D_loss: 16.38\n",
            "G_loss: 84.22\n",
            "\n",
            "iteration: 2600\n",
            "D_loss: 1.921\n",
            "G_loss: 76.97\n",
            "\n",
            "iteration: 2700\n",
            "D_loss: 2.687\n",
            "G_loss: 68.42\n",
            "\n",
            "iteration: 2800\n",
            "D_loss: 34.61\n",
            "G_loss: 46.68\n",
            "\n",
            "iteration: 2900\n",
            "D_loss: 6.988\n",
            "G_loss: 115.6\n",
            "\n",
            "iteration: 3000\n",
            "D_loss: 12.77\n",
            "G_loss: 79.23\n",
            "\n",
            "iteration: 3100\n",
            "D_loss: 4.685\n",
            "G_loss: 63.98\n",
            "\n",
            "iteration: 3200\n",
            "D_loss: 8.665\n",
            "G_loss: 67.99\n",
            "\n",
            "iteration: 3300\n",
            "D_loss: 7.693\n",
            "G_loss: 86.2\n",
            "\n",
            "iteration: 3400\n",
            "D_loss: 0.6068\n",
            "G_loss: 130.5\n",
            "\n",
            "iteration: 3500\n",
            "D_loss: 15.86\n",
            "G_loss: 37.1\n",
            "\n",
            "iteration: 3600\n",
            "D_loss: 7.53\n",
            "G_loss: 83.13\n",
            "\n",
            "iteration: 3700\n",
            "D_loss: 8.701\n",
            "G_loss: 47.01\n",
            "\n",
            "iteration: 3800\n",
            "D_loss: 0.7524\n",
            "G_loss: 58.34\n",
            "\n",
            "iteration: 3900\n",
            "D_loss: 7.333\n",
            "G_loss: 97.36\n",
            "\n",
            "iteration: 4000\n",
            "D_loss: 5.594\n",
            "G_loss: 86.8\n",
            "\n",
            "iteration: 4100\n",
            "D_loss: 3.85\n",
            "G_loss: 79.98\n",
            "\n",
            "iteration: 4200\n",
            "D_loss: 2.657\n",
            "G_loss: 96.19\n",
            "\n",
            "iteration: 4300\n",
            "D_loss: 5.988\n",
            "G_loss: 67.34\n",
            "\n",
            "iteration: 4400\n",
            "D_loss: 5.667\n",
            "G_loss: 95.38\n",
            "\n",
            "iteration: 4500\n",
            "D_loss: 3.998\n",
            "G_loss: 142.4\n",
            "\n",
            "iteration: 4600\n",
            "D_loss: 2.361\n",
            "G_loss: 90.76\n",
            "\n",
            "iteration: 4700\n",
            "D_loss: 7.894\n",
            "G_loss: 76.72\n",
            "\n",
            "iteration: 4800\n",
            "D_loss: 3.661\n",
            "G_loss: 64.62\n",
            "\n",
            "iteration: 4900\n",
            "D_loss: 3.198\n",
            "G_loss: 73.72\n",
            "\n",
            "iteration: 5000\n",
            "D_loss: 10.11\n",
            "G_loss: 44.63\n",
            "\n",
            "iteration: 5100\n",
            "D_loss: 2.945\n",
            "G_loss: 72.62\n",
            "\n",
            "iteration: 5200\n",
            "D_loss: 5.911\n",
            "G_loss: 70.11\n",
            "\n",
            "iteration: 5300\n",
            "D_loss: 1.5\n",
            "G_loss: 54.22\n",
            "\n",
            "iteration: 5400\n",
            "D_loss: 2.472\n",
            "G_loss: 40.32\n",
            "\n",
            "iteration: 5500\n",
            "D_loss: 0.9282\n",
            "G_loss: 35.19\n",
            "\n",
            "iteration: 5600\n",
            "D_loss: 2.512\n",
            "G_loss: 20.39\n",
            "\n",
            "iteration: 5700\n",
            "D_loss: 2.397\n",
            "G_loss: 32.49\n",
            "\n",
            "iteration: 5800\n",
            "D_loss: 7.908\n",
            "G_loss: 44.36\n",
            "\n",
            "iteration: 5900\n",
            "D_loss: 3.263\n",
            "G_loss: 63.61\n",
            "\n",
            "iteration: 6000\n",
            "D_loss: 4.552\n",
            "G_loss: 52.57\n",
            "\n",
            "iteration: 6100\n",
            "D_loss: 3.371\n",
            "G_loss: 104.7\n",
            "\n",
            "iteration: 6200\n",
            "D_loss: 10.5\n",
            "G_loss: 81.88\n",
            "\n",
            "iteration: 6300\n",
            "D_loss: 14.57\n",
            "G_loss: 56.06\n",
            "\n",
            "iteration: 6400\n",
            "D_loss: 2.077\n",
            "G_loss: 32.33\n",
            "\n",
            "iteration: 6500\n",
            "D_loss: 0.6519\n",
            "G_loss: 52.92\n",
            "\n",
            "iteration: 6600\n",
            "D_loss: 5.866\n",
            "G_loss: 86.28\n",
            "\n",
            "iteration: 6700\n",
            "D_loss: 1.023\n",
            "G_loss: 67.21\n",
            "\n",
            "iteration: 6800\n",
            "D_loss: 1.419\n",
            "G_loss: 40.08\n",
            "\n",
            "iteration: 6900\n",
            "D_loss: 5.833\n",
            "G_loss: 29.79\n",
            "\n",
            "iteration: 7000\n",
            "D_loss: 3.765\n",
            "G_loss: 84.42\n",
            "\n",
            "iteration: 7100\n",
            "D_loss: 22.83\n",
            "G_loss: 35.53\n",
            "\n",
            "iteration: 7200\n",
            "D_loss: 16.04\n",
            "G_loss: 31.68\n",
            "\n",
            "iteration: 7300\n",
            "D_loss: 5.368\n",
            "G_loss: 88.12\n",
            "\n",
            "iteration: 7400\n",
            "D_loss: 8.77\n",
            "G_loss: 71.15\n",
            "\n",
            "iteration: 7500\n",
            "D_loss: 8.972\n",
            "G_loss: 44.22\n",
            "\n",
            "iteration: 7600\n",
            "D_loss: 2.441\n",
            "G_loss: 37.16\n",
            "\n",
            "iteration: 7700\n",
            "D_loss: 8.706\n",
            "G_loss: 34.07\n",
            "\n",
            "iteration: 7800\n",
            "D_loss: 4.575\n",
            "G_loss: 50.3\n",
            "\n",
            "iteration: 7900\n",
            "D_loss: 1.821\n",
            "G_loss: 23.4\n",
            "\n",
            "iteration: 8000\n",
            "D_loss: 2.074\n",
            "G_loss: 28.79\n",
            "\n",
            "iteration: 8100\n",
            "D_loss: 5.292\n",
            "G_loss: 21.51\n",
            "\n",
            "iteration: 8200\n",
            "D_loss: 0.7019\n",
            "G_loss: 57.67\n",
            "\n",
            "iteration: 8300\n",
            "D_loss: 2.164\n",
            "G_loss: 37.01\n",
            "\n",
            "iteration: 8400\n",
            "D_loss: 1.818\n",
            "G_loss: 28.48\n",
            "\n",
            "iteration: 8500\n",
            "D_loss: 1.43\n",
            "G_loss: 29.22\n",
            "\n",
            "iteration: 8600\n",
            "D_loss: 2.437\n",
            "G_loss: 28.46\n",
            "\n",
            "iteration: 8700\n",
            "D_loss: 1.081\n",
            "G_loss: 32.98\n",
            "\n",
            "iteration: 8800\n",
            "D_loss: 1.642\n",
            "G_loss: 11.79\n",
            "\n",
            "iteration: 8900\n",
            "D_loss: 3.315\n",
            "G_loss: 31.48\n",
            "\n",
            "iteration: 9000\n",
            "D_loss: 0.6586\n",
            "G_loss: 20.63\n",
            "\n",
            "iteration: 9100\n",
            "D_loss: 0.8799\n",
            "G_loss: 27.33\n",
            "\n",
            "iteration: 9200\n",
            "D_loss: 9.409\n",
            "G_loss: 27.27\n",
            "\n",
            "iteration: 9300\n",
            "D_loss: 4.431\n",
            "G_loss: 26.02\n",
            "\n",
            "iteration: 9400\n",
            "D_loss: 4.734\n",
            "G_loss: 15.58\n",
            "\n",
            "iteration: 9500\n",
            "D_loss: 6.646\n",
            "G_loss: 21.73\n",
            "\n",
            "iteration: 9600\n",
            "D_loss: 3.949\n",
            "G_loss: 37.17\n",
            "\n",
            "iteration: 9700\n",
            "D_loss: 8.0\n",
            "G_loss: 16.59\n",
            "\n",
            "iteration: 9800\n",
            "D_loss: 5.407\n",
            "G_loss: 35.66\n",
            "\n",
            "iteration: 9900\n",
            "D_loss: 2.988\n",
            "G_loss: 21.37\n",
            "\n"
          ],
          "name": "stdout"
        }
      ]
    },
    {
      "cell_type": "code",
      "metadata": {
        "id": "cyieLT_09MSx",
        "colab_type": "code",
        "outputId": "df33fd0d-b75c-4e8e-c0ed-3de336ada7ca",
        "colab": {
          "base_uri": "https://localhost:8080/",
          "height": 281
        }
      },
      "source": [
        "plt.figure(1)\n",
        "plt.subplot(2, 1, 1)\n",
        "plt.plot(np.arange(max_iter), discriminator_loss, 'r-', label='discriminator_loss')\n",
        "plt.xlabel('number of iterations')\n",
        "plt.ylabel('GANs loss')\n",
        "plt.legend()\n",
        "plt.grid(True)\n",
        "\n",
        "plt.subplot(2, 1, 2)\n",
        "plt.plot(np.arange(max_iter), generator_loss, 'b-', label='generator_loss')\n",
        "plt.xlabel('number of iterations')\n",
        "plt.ylabel('GANs loss')\n",
        "plt.legend()\n",
        "plt.grid(True)\n",
        "plt.show()"
      ],
      "execution_count": 13,
      "outputs": [
        {
          "output_type": "display_data",
          "data": {
            "image/png": "[encoded data removed]",
            "text/plain": [
              "<Figure size 432x288 with 2 Axes>"
            ]
          },
          "metadata": {
            "tags": [],
            "needs_background": "light"
          }
        }
      ]
    },
    {
      "cell_type": "code",
      "metadata": {
        "id": "NcgASBkNL5_m",
        "colab_type": "code",
        "outputId": "147d005d-5a8b-45bd-cf7d-328a12768450",
        "colab": {
          "base_uri": "https://localhost:8080/",
          "height": 1000
        }
      },
      "source": [
        "!zip -r /content/Problem1_c.zip /content/Problem1_c\n",
        "# !zip -r /content/file.zip /content/Folder_To_Zip\n",
        "# from google.colab import files\n",
        "# files.download(\"/content/file.zip\")\n"
      ],
      "execution_count": 14,
      "outputs": [
        {
          "output_type": "stream",
          "text": [
            "  adding: content/Problem1_c/ (stored 0%)\n",
            "  adding: content/Problem1_c/Problem1_c_99.png (deflated 2%)\n",
            "  adding: content/Problem1_c/Problem1_c_14.png (deflated 4%)\n",
            "  adding: content/Problem1_c/Problem1_c_58.png (deflated 2%)\n",
            "  adding: content/Problem1_c/Problem1_c_54.png (deflated 2%)\n",
            "  adding: content/Problem1_c/Problem1_c_10.png (deflated 2%)\n",
            "  adding: content/Problem1_c/Problem1_c_3.png (deflated 2%)\n",
            "  adding: content/Problem1_c/Problem1_c_53.png (deflated 2%)\n",
            "  adding: content/Problem1_c/Problem1_c_16.png (deflated 2%)\n",
            "  adding: content/Problem1_c/Problem1_c_45.png (deflated 2%)\n",
            "  adding: content/Problem1_c/Problem1_c_4.png (deflated 2%)\n",
            "  adding: content/Problem1_c/Problem1_c_61.png (deflated 2%)\n",
            "  adding: content/Problem1_c/Problem1_c_69.png (deflated 2%)\n",
            "  adding: content/Problem1_c/Problem1_c_81.png (deflated 2%)\n",
            "  adding: content/Problem1_c/Problem1_c_44.png (deflated 2%)\n",
            "  adding: content/Problem1_c/Problem1_c_71.png (deflated 2%)\n",
            "  adding: content/Problem1_c/Problem1_c_72.png (deflated 3%)\n",
            "  adding: content/Problem1_c/Problem1_c_8.png (deflated 7%)\n",
            "  adding: content/Problem1_c/Problem1_c_56.png (deflated 2%)\n",
            "  adding: content/Problem1_c/Problem1_c_40.png (deflated 2%)\n",
            "  adding: content/Problem1_c/Problem1_c_96.png (deflated 2%)\n",
            "  adding: content/Problem1_c/Problem1_c_67.png (deflated 2%)\n",
            "  adding: content/Problem1_c/Problem1_c_87.png (deflated 3%)\n",
            "  adding: content/Problem1_c/Problem1_c_73.png (deflated 3%)\n",
            "  adding: content/Problem1_c/Problem1_c_38.png (deflated 2%)\n",
            "  adding: content/Problem1_c/Problem1_c_49.png (deflated 2%)\n",
            "  adding: content/Problem1_c/Problem1_c_60.png (deflated 2%)\n",
            "  adding: content/Problem1_c/Problem1_c_52.png (deflated 2%)\n",
            "  adding: content/Problem1_c/Problem1_c_80.png (deflated 3%)\n",
            "  adding: content/Problem1_c/Problem1_c_64.png (deflated 2%)\n",
            "  adding: content/Problem1_c/Problem1_c_17.png (deflated 1%)\n",
            "  adding: content/Problem1_c/Problem1_c_6.png (deflated 8%)\n",
            "  adding: content/Problem1_c/Problem1_c_19.png (deflated 2%)\n",
            "  adding: content/Problem1_c/Problem1_c_47.png (deflated 2%)\n",
            "  adding: content/Problem1_c/Problem1_c_46.png (deflated 2%)\n",
            "  adding: content/Problem1_c/Problem1_c_26.png (deflated 2%)\n",
            "  adding: content/Problem1_c/Problem1_c_11.png (deflated 4%)\n",
            "  adding: content/Problem1_c/Problem1_c_25.png (deflated 2%)\n",
            "  adding: content/Problem1_c/Problem1_c_9.png (deflated 2%)\n",
            "  adding: content/Problem1_c/Problem1_c_1.png (deflated 3%)\n",
            "  adding: content/Problem1_c/Problem1_c_0.png (deflated 1%)\n",
            "  adding: content/Problem1_c/Problem1_c_20.png (deflated 2%)\n",
            "  adding: content/Problem1_c/Problem1_c_82.png (deflated 3%)\n",
            "  adding: content/Problem1_c/Problem1_c_22.png (deflated 1%)\n",
            "  adding: content/Problem1_c/Problem1_c_55.png (deflated 2%)\n",
            "  adding: content/Problem1_c/Problem1_c_12.png (deflated 3%)\n",
            "  adding: content/Problem1_c/Problem1_c_43.png (deflated 2%)\n",
            "  adding: content/Problem1_c/Problem1_c_5.png (deflated 3%)\n",
            "  adding: content/Problem1_c/Problem1_c_39.png (deflated 2%)\n",
            "  adding: content/Problem1_c/Problem1_c_93.png (deflated 3%)\n",
            "  adding: content/Problem1_c/Problem1_c_15.png (deflated 2%)\n",
            "  adding: content/Problem1_c/Problem1_c_13.png (deflated 4%)\n",
            "  adding: content/Problem1_c/Problem1_c_34.png (deflated 2%)\n",
            "  adding: content/Problem1_c/Problem1_c_90.png (deflated 2%)\n",
            "  adding: content/Problem1_c/Problem1_c_21.png (deflated 1%)\n",
            "  adding: content/Problem1_c/Problem1_c_63.png (deflated 2%)\n",
            "  adding: content/Problem1_c/Problem1_c_24.png (deflated 2%)\n",
            "  adding: content/Problem1_c/Problem1_c_83.png (deflated 2%)\n",
            "  adding: content/Problem1_c/Problem1_c_84.png (deflated 3%)\n",
            "  adding: content/Problem1_c/Problem1_c_85.png (deflated 3%)\n",
            "  adding: content/Problem1_c/Problem1_c_59.png (deflated 2%)\n",
            "  adding: content/Problem1_c/Problem1_c_86.png (deflated 2%)\n",
            "  adding: content/Problem1_c/Problem1_c_33.png (deflated 2%)\n",
            "  adding: content/Problem1_c/Problem1_c_75.png (deflated 2%)\n",
            "  adding: content/Problem1_c/Problem1_c_27.png (deflated 2%)\n",
            "  adding: content/Problem1_c/Problem1_c_41.png (deflated 2%)\n",
            "  adding: content/Problem1_c/Problem1_c_68.png (deflated 2%)\n",
            "  adding: content/Problem1_c/Problem1_c_57.png (deflated 3%)\n",
            "  adding: content/Problem1_c/Problem1_c_65.png (deflated 3%)\n",
            "  adding: content/Problem1_c/Problem1_c_97.png (deflated 2%)\n",
            "  adding: content/Problem1_c/Problem1_c_50.png (deflated 2%)\n",
            "  adding: content/Problem1_c/Problem1_c_31.png (deflated 1%)\n",
            "  adding: content/Problem1_c/Problem1_c_2.png (deflated 3%)\n",
            "  adding: content/Problem1_c/Problem1_c_89.png (deflated 2%)\n",
            "  adding: content/Problem1_c/Problem1_c_23.png (deflated 2%)\n",
            "  adding: content/Problem1_c/Problem1_c_92.png (deflated 2%)\n",
            "  adding: content/Problem1_c/Problem1_c_7.png (deflated 9%)\n",
            "  adding: content/Problem1_c/Problem1_c_32.png (deflated 2%)\n",
            "  adding: content/Problem1_c/Problem1_c_77.png (deflated 3%)\n",
            "  adding: content/Problem1_c/Problem1_c_79.png (deflated 2%)\n",
            "  adding: content/Problem1_c/Problem1_c_42.png (deflated 2%)\n",
            "  adding: content/Problem1_c/Problem1_c_66.png (deflated 3%)\n",
            "  adding: content/Problem1_c/Problem1_c_28.png (deflated 2%)\n",
            "  adding: content/Problem1_c/Problem1_c_76.png (deflated 2%)\n",
            "  adding: content/Problem1_c/Problem1_c_35.png (deflated 2%)\n",
            "  adding: content/Problem1_c/Problem1_c_51.png (deflated 2%)\n",
            "  adding: content/Problem1_c/Problem1_c_18.png (deflated 2%)\n",
            "  adding: content/Problem1_c/Problem1_c_37.png (deflated 2%)\n",
            "  adding: content/Problem1_c/Problem1_c_48.png (deflated 2%)\n",
            "  adding: content/Problem1_c/Problem1_c_70.png (deflated 2%)\n",
            "  adding: content/Problem1_c/Problem1_c_29.png (deflated 2%)\n",
            "  adding: content/Problem1_c/Problem1_c_88.png (deflated 3%)\n",
            "  adding: content/Problem1_c/Problem1_c_91.png (deflated 3%)\n",
            "  adding: content/Problem1_c/Problem1_c_62.png (deflated 3%)\n",
            "  adding: content/Problem1_c/Problem1_c_95.png (deflated 2%)\n",
            "  adding: content/Problem1_c/Problem1_c_98.png (deflated 2%)\n",
            "  adding: content/Problem1_c/Problem1_c_36.png (deflated 2%)\n",
            "  adding: content/Problem1_c/Problem1_c_30.png (deflated 2%)\n",
            "  adding: content/Problem1_c/Problem1_c_94.png (deflated 2%)\n",
            "  adding: content/Problem1_c/Problem1_c_74.png (deflated 3%)\n",
            "  adding: content/Problem1_c/Problem1_c_78.png (deflated 2%)\n"
          ],
          "name": "stdout"
        }
      ]
    },
    {
      "cell_type": "code",
      "metadata": {
        "id": "Uaw2Pz0IKCI9",
        "colab_type": "code",
        "outputId": "cea93747-9d69-4d52-dddc-87ac768e82e8",
        "colab": {
          "base_uri": "https://localhost:8080/",
          "height": 35
        }
      },
      "source": [
        "!ls\n",
        "# !rm -rf /content/Problem1_a"
      ],
      "execution_count": 15,
      "outputs": [
        {
          "output_type": "stream",
          "text": [
            "data  Problem1_c  Problem1_c.zip  sample_data\n"
          ],
          "name": "stdout"
        }
      ]
    },
    {
      "cell_type": "code",
      "metadata": {
        "id": "L2kLK1UVyOgR",
        "colab_type": "code",
        "colab": {}
      },
      "source": [
        ""
      ],
      "execution_count": 0,
      "outputs": []
    }
  ]
}