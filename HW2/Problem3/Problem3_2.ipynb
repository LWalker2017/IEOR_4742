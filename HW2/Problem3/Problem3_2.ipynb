{
 "cells": [
  {
   "cell_type": "markdown",
   "metadata": {},
   "source": [
    "# Problem 3 (visualization of the lost function ):\n",
    "- Use the first & second architecture and the optimization routine you were assigned in Problem 1 to assess the loss function by interpolation, namely the path traveled through the loss function from the starting point to the optimal point obtained by the optimizer (extension of example interpolation 1.ipynb)"
   ]
  },
  {
   "cell_type": "markdown",
   "metadata": {
    "colab_type": "text",
    "id": "n6HNDhyqLjiP"
   },
   "source": [
    "# Import"
   ]
  },
  {
   "cell_type": "code",
   "execution_count": 1,
   "metadata": {
    "ExecuteTime": {
     "end_time": "2018-09-20T01:58:49.569152Z",
     "start_time": "2018-09-20T01:58:48.721454Z"
    },
    "colab": {},
    "colab_type": "code",
    "collapsed": true,
    "id": "fXgZ9kSsLjib",
    "outputId": "7f3e7ac8-ca97-4aa6-d5c5-bf459c4e2bc8"
   },
   "outputs": [
    {
     "name": "stdout",
     "output_type": "stream",
     "text": [
      "WARNING:tensorflow:From D:\\Anaconda3\\lib\\site-packages\\tensorflow_core\\python\\compat\\v2_compat.py:65: disable_resource_variables (from tensorflow.python.ops.variable_scope) is deprecated and will be removed in a future version.\n",
      "Instructions for updating:\n",
      "non-resource variables are not supported in the long term\n",
      "WARNING:tensorflow:From <ipython-input-1-75954950f2f9>:9: read_data_sets (from tensorflow.examples.tutorials.mnist.input_data) is deprecated and will be removed in a future version.\n",
      "Instructions for updating:\n",
      "Please use alternatives such as: tensorflow_datasets.load('mnist')\n",
      "WARNING:tensorflow:From D:\\Anaconda3\\lib\\site-packages\\tensorflow_core\\examples\\tutorials\\mnist\\input_data.py:297: _maybe_download (from tensorflow.examples.tutorials.mnist.input_data) is deprecated and will be removed in a future version.\n",
      "Instructions for updating:\n",
      "Please write your own downloading logic.\n",
      "WARNING:tensorflow:From D:\\Anaconda3\\lib\\site-packages\\tensorflow_core\\examples\\tutorials\\mnist\\input_data.py:299: _extract_images (from tensorflow.examples.tutorials.mnist.input_data) is deprecated and will be removed in a future version.\n",
      "Instructions for updating:\n",
      "Please use tf.data to implement this functionality.\n",
      "Extracting ../MNIST_data/train-images-idx3-ubyte.gz\n",
      "WARNING:tensorflow:From D:\\Anaconda3\\lib\\site-packages\\tensorflow_core\\examples\\tutorials\\mnist\\input_data.py:304: _extract_labels (from tensorflow.examples.tutorials.mnist.input_data) is deprecated and will be removed in a future version.\n",
      "Instructions for updating:\n",
      "Please use tf.data to implement this functionality.\n",
      "Extracting ../MNIST_data/train-labels-idx1-ubyte.gz\n",
      "WARNING:tensorflow:From D:\\Anaconda3\\lib\\site-packages\\tensorflow_core\\examples\\tutorials\\mnist\\input_data.py:112: _dense_to_one_hot (from tensorflow.examples.tutorials.mnist.input_data) is deprecated and will be removed in a future version.\n",
      "Instructions for updating:\n",
      "Please use tf.one_hot on tensors.\n",
      "Extracting ../MNIST_data/t10k-images-idx3-ubyte.gz\n",
      "Extracting ../MNIST_data/t10k-labels-idx1-ubyte.gz\n",
      "WARNING:tensorflow:From D:\\Anaconda3\\lib\\site-packages\\tensorflow_core\\examples\\tutorials\\mnist\\input_data.py:328: _DataSet.__init__ (from tensorflow.examples.tutorials.mnist.input_data) is deprecated and will be removed in a future version.\n",
      "Instructions for updating:\n",
      "Please use alternatives such as official/mnist/_DataSet.py from tensorflow/models.\n"
     ]
    }
   ],
   "source": [
    "import tensorflow.compat.v1 as tf\n",
    "import time\n",
    "import numpy as np # linear algebra\n",
    "import matplotlib.pyplot as plt\n",
    "from tensorflow.examples.tutorials.mnist import input_data\n",
    "tf.disable_v2_behavior()\n",
    "\n",
    "#load MNIST dataset \n",
    "mnist = input_data.read_data_sets(\"../MNIST_data/\", one_hot=True)"
   ]
  },
  {
   "cell_type": "markdown",
   "metadata": {
    "ExecuteTime": {
     "end_time": "2018-09-19T22:03:55.082812Z",
     "start_time": "2018-09-19T22:03:55.079720Z"
    },
    "colab_type": "text",
    "id": "giq_0GNvLji4"
   },
   "source": [
    "# Parameters"
   ]
  },
  {
   "cell_type": "code",
   "execution_count": 2,
   "metadata": {
    "ExecuteTime": {
     "end_time": "2018-09-20T01:59:02.285613Z",
     "start_time": "2018-09-20T01:59:02.277606Z"
    },
    "colab": {},
    "colab_type": "code",
    "id": "nDGfBFFZLji9"
   },
   "outputs": [],
   "source": [
    "#Network Architecture\n",
    "# -----------------------------------------\n",
    "# Five hidden layers\n",
    "# ------------------------------------------\n",
    "# number of neurons in layer 1\n",
    "n_hidden_1 = 50\n",
    "# number of neurons in layer 2\n",
    "n_hidden_2 = 50\n",
    "# number of neurons in layer 3\n",
    "n_hidden_3 = 50\n",
    "# number of neurons in layer 4\n",
    "n_hidden_4 = 50\n",
    "# number of neurons in layer 5\n",
    "n_hidden_5 = 50\n",
    "\n",
    "#MNIST data image of shape 28*28=784\n",
    "input_size = 784\n",
    "\n",
    "# 0-9 digits recognition (labels)\n",
    "output_size = 10\n",
    "\n",
    "#change it to your own path \n",
    "#log_files_path = './checkpoints/'\n",
    "log_files_path = 'D:/JupyterNotebook/IEOR_4742/HW2/Problem3/logs/'"
   ]
  },
  {
   "cell_type": "markdown",
   "metadata": {
    "colab_type": "text",
    "id": "coxhf2tRLjjm"
   },
   "source": [
    "# Definition of the Layer Function"
   ]
  },
  {
   "cell_type": "code",
   "execution_count": 3,
   "metadata": {
    "ExecuteTime": {
     "end_time": "2018-09-20T01:59:03.814451Z",
     "start_time": "2018-09-20T01:59:03.796629Z"
    },
    "colab": {},
    "colab_type": "code",
    "id": "42P_qdYeLjjv"
   },
   "outputs": [],
   "source": [
    "def layer(x, weight_shape, bias_shape):\n",
    "    \"\"\"\n",
    "    Defines the network layers\n",
    "    input:\n",
    "        - x: input vector of the layer\n",
    "        - weight_shape: shape the the weight maxtrix\n",
    "        - bias_shape: shape of the bias vector\n",
    "    output:\n",
    "        - output vector of the layer after the matrix multiplication and non linear transformation\n",
    "    \"\"\"\n",
    "    print('inside layer')\n",
    "    \n",
    "    # comes from the study by He et al. for ReLU layers\n",
    "    w_std = (2.0/weight_shape[0])**0.5\n",
    "    \n",
    "    #initialization of the weights\n",
    "    w_0 = tf.random_normal_initializer(stddev=w_std)\n",
    "\n",
    "    b_0 = tf.constant_initializer(value=0)\n",
    "    \n",
    "    W = tf.get_variable(\"W\", weight_shape, initializer=w_0)\n",
    "    b = tf.get_variable(\"b\", bias_shape,   initializer=b_0)\n",
    "    \n",
    "    # different activation functions\n",
    "    # you can try either \n",
    "\n",
    "    #return tf.nn.relu(tf.matmul(x, W) + b)\n",
    "    return tf.matmul(x, W) + b"
   ]
  },
  {
   "cell_type": "markdown",
   "metadata": {
    "colab_type": "text",
    "id": "LPdrT9HLLjkH"
   },
   "source": [
    "# Define Inference Function"
   ]
  },
  {
   "cell_type": "code",
   "execution_count": 4,
   "metadata": {
    "ExecuteTime": {
     "end_time": "2018-09-20T01:59:05.120581Z",
     "start_time": "2018-09-20T01:59:05.107111Z"
    },
    "colab": {},
    "colab_type": "code",
    "id": "UoJkkp9CLjkP"
   },
   "outputs": [],
   "source": [
    "def inference(x):\n",
    "    \"\"\"\n",
    "    define the whole network (5 hidden layers + output layers)\n",
    "    input:\n",
    "        - a batch of pictures \n",
    "        (input shape = (batch_size*image_size))\n",
    "    output:\n",
    "        - a batch vector corresponding to the logits predicted by the network\n",
    "        (output shape = (batch_size*output_size)) \n",
    "    \"\"\"\n",
    "\n",
    "    #tf.variable_scope可以让变量有相同的命名，包括tf.get_variable得到的变量，还有tf.Variable得到的变量\n",
    "    with tf.variable_scope(\"hidden_layer_1\"):\n",
    "        hidden_1 = layer(x, [input_size, n_hidden_1], [n_hidden_1])\n",
    "        #print([input_size, n_hidden_1])\n",
    "     \n",
    "    with tf.variable_scope(\"hidden_layer_2\"):\n",
    "        hidden_2 = layer(hidden_1, [n_hidden_1, n_hidden_2], [n_hidden_2])\n",
    "        #print([n_hidden_1, n_hidden_2])\n",
    "\n",
    "    with tf.variable_scope(\"hidden_layer_3\"):\n",
    "        hidden_3 = layer(hidden_2, [n_hidden_2, n_hidden_3], [n_hidden_3])\n",
    "        #print([n_hidden_2, n_hidden_3])\n",
    "        \n",
    "    with tf.variable_scope(\"hidden_layer_4\"):\n",
    "        hidden_4 = layer(hidden_3, [n_hidden_3, n_hidden_4], [n_hidden_4])\n",
    "        #print([n_hidden_3, n_hidden_4])\n",
    "\n",
    "    with tf.variable_scope(\"hidden_layer_5\"):\n",
    "        hidden_5 = layer(hidden_4, [n_hidden_4, n_hidden_5], [n_hidden_5])\n",
    "        #print([n_hidden_4, n_hidden_5])\n",
    "     \n",
    "    with tf.variable_scope(\"output\"):\n",
    "        output = layer(hidden_5, [n_hidden_5, output_size], [output_size])\n",
    "        #print([n_hidden_5, output_size])\n",
    "\n",
    "    return output"
   ]
  },
  {
   "cell_type": "markdown",
   "metadata": {
    "colab_type": "text",
    "id": "7zP-B-g5Ljkj"
   },
   "source": [
    "# Define Loss Function"
   ]
  },
  {
   "cell_type": "code",
   "execution_count": 5,
   "metadata": {
    "ExecuteTime": {
     "end_time": "2018-09-20T01:59:07.775648Z",
     "start_time": "2018-09-20T01:59:07.769327Z"
    },
    "colab": {},
    "colab_type": "code",
    "id": "BQ2JWjT5Ljkk"
   },
   "outputs": [],
   "source": [
    "def loss(output, y):\n",
    "    \"\"\"\n",
    "    Computes softmax cross entropy between logits and labels and then the loss \n",
    "    \n",
    "    intput:\n",
    "        - output: the output of the inference function \n",
    "        - y: true value of the sample batch\n",
    "        \n",
    "        the two have the same shape (batch_size * num_of_classes)\n",
    "    output:\n",
    "        - loss: loss of the corresponding batch (scalar tensor)\n",
    "    \n",
    "    \"\"\"\n",
    "    #Computes softmax cross entropy between logits and labels.\n",
    "    xentropy = tf.nn.softmax_cross_entropy_with_logits(logits=output, labels=y)\n",
    "    loss = tf.reduce_mean(xentropy)\n",
    "\n",
    "    return loss"
   ]
  },
  {
   "cell_type": "markdown",
   "metadata": {
    "colab_type": "text",
    "id": "Cc8K5Bi4Ljkx"
   },
   "source": [
    "# Main "
   ]
  },
  {
   "cell_type": "code",
   "execution_count": 6,
   "metadata": {
    "ExecuteTime": {
     "end_time": "2018-09-20T01:59:09.333152Z",
     "start_time": "2018-09-20T01:59:09.003257Z"
    },
    "colab": {},
    "colab_type": "code",
    "id": "fBeDKFfhLjk8",
    "outputId": "f8c53377-0d48-4ac4-dc9d-8756bf92bdaa"
   },
   "outputs": [
    {
     "name": "stdout",
     "output_type": "stream",
     "text": [
      "inside layer\n",
      "inside layer\n",
      "inside layer\n",
      "inside layer\n",
      "inside layer\n",
      "inside layer\n",
      "WARNING:tensorflow:From <ipython-input-5-8bb28c0902cf>:15: softmax_cross_entropy_with_logits (from tensorflow.python.ops.nn_ops) is deprecated and will be removed in a future version.\n",
      "Instructions for updating:\n",
      "\n",
      "Future major versions of TensorFlow will allow gradients to flow\n",
      "into the labels input on backprop by default.\n",
      "\n",
      "See `tf.nn.softmax_cross_entropy_with_logits_v2`.\n",
      "\n",
      "INFO:tensorflow:Restoring parameters from D:/JupyterNotebook/IEOR_4742/HW2/Problem3/logs/multi_layer/model-checkpoint-89100\n",
      "inside layer\n",
      "inside layer\n",
      "inside layer\n",
      "inside layer\n",
      "inside layer\n",
      "inside layer\n",
      "[4922.481, 4.071814]\n"
     ]
    },
    {
     "data": {
      "image/png": "[encoded data removed]",
      "text/plain": [
       "<Figure size 432x288 with 1 Axes>"
      ]
     },
     "metadata": {
      "needs_background": "light"
     },
     "output_type": "display_data"
    }
   ],
   "source": [
    "            \n",
    "#the input variables are first define as placeholder \n",
    "# a placeholder is a variable/data which will be assigned later \n",
    "# image vector & label\n",
    "x = tf.placeholder(\"float\", [None, 784]) # mnist data image of shape 28*28=784\n",
    "y = tf.placeholder(\"float\", [None, 10]) # 0-9 digits recognition => 10 classes\n",
    "\n",
    "#defines a session\n",
    "sess = tf.Session()\n",
    "\n",
    "\n",
    "with tf.variable_scope(\"multi_layer\", reuse=tf.AUTO_REUSE):\n",
    "    #opt neural network definition\n",
    "    \n",
    "    #the network is defined using the inference function defined above in the code\n",
    "    output_opt = inference(x)\n",
    "    \n",
    "    #compute the cost \n",
    "    cost_opt = loss(output_opt, y)\n",
    "    \n",
    "    saver = tf.train.Saver() \n",
    "    \n",
    "    var_list_opt = [\"hidden_layer_1/W\", \"hidden_layer_1/b\",\n",
    "                     \"hidden_layer_2/W\", \"hidden_layer_2/b\", \n",
    "                     \"hidden_layer_3/W\", \"hidden_layer_3/b\",\n",
    "                     \"hidden_layer_4/W\", \"hidden_layer_4/b\",\n",
    "                     \"hidden_layer_5/W\", \"hidden_layer_5/b\",\n",
    "                     \"output/W\", \"output/b\"]\n",
    "    \n",
    "    var_list_opt = [tf.get_variable(v) for v in var_list_opt]\n",
    "    \n",
    "    #restore values of parameters saved previously\n",
    "    #remember to download the model checkpoints files from canvas and save them in the corresponding path\n",
    "    saver.restore(sess, log_files_path + 'multi_layer/model-checkpoint-89100')\n",
    "\n",
    "\n",
    "with tf.variable_scope(\"multi_layer_init\", reuse=tf.AUTO_REUSE):\n",
    "    #rand neural network definition\n",
    "    \n",
    "    #the network is defined using the inference function defined above in the code\n",
    "    output_rand = inference(x)\n",
    "    #compute the rand cost\n",
    "    cost_rand = loss(output_rand, y)\n",
    "    \n",
    "    var_list_rand = [\"hidden_layer_1/W\", \"hidden_layer_1/b\",\n",
    "                     \"hidden_layer_2/W\", \"hidden_layer_2/b\", \n",
    "                     \"hidden_layer_3/W\", \"hidden_layer_3/b\",\n",
    "                     \"hidden_layer_4/W\", \"hidden_layer_4/b\",\n",
    "                     \"hidden_layer_5/W\", \"hidden_layer_5/b\",\n",
    "                     \"output/W\", \"output/b\"]\n",
    "    \n",
    "    var_list_rand = [tf.get_variable(v) for v in var_list_rand]\n",
    "    \n",
    "    #initialization of the variables\n",
    "    init_op = tf.variables_initializer(var_list_rand)\n",
    "    \n",
    "    sess.run(init_op)\n",
    "\n",
    "    \n",
    "\n",
    "#dictionary for the test dataset \n",
    "#used to evaluate accuracy \n",
    "feed_dict = {\n",
    "        x: mnist.test.images,\n",
    "        y: mnist.test.labels,\n",
    "}\n",
    "\n",
    "#compute the loss for opt and rand networks\n",
    "print(sess.run([cost_opt, cost_rand], feed_dict=feed_dict))\n",
    "\n",
    "with tf.variable_scope(\"multi_layer_inter\") as scope:\n",
    "    #initialize the placeholder alpha coefficient \n",
    "    #a placeholder is a variable/data which will be assigned later \n",
    "    alpha = tf.placeholder(\"float\", [1, 1])\n",
    "    \n",
    "    #the coefficients of the opt and rand networks are modulated with the alpha coefficient\n",
    "    h1_W_inter = var_list_opt[0] * (1.0 - alpha) + var_list_rand[0] * (alpha)\n",
    "    h1_b_inter = var_list_opt[1] * (1.0 - alpha) + var_list_rand[1] * (alpha)\n",
    "    #\n",
    "    h2_W_inter = var_list_opt[2] * (1.0 - alpha) + var_list_rand[2] * (alpha)\n",
    "    h2_b_inter = var_list_opt[3] * (1.0 - alpha) + var_list_rand[3] * (alpha)\n",
    "    #\n",
    "    h3_W_inter = var_list_opt[4] * (1.0 - alpha) + var_list_rand[4] * (alpha)\n",
    "    h3_b_inter = var_list_opt[5] * (1.0 - alpha) + var_list_rand[5] * (alpha)\n",
    "    #\n",
    "    h4_W_inter = var_list_opt[6] * (1.0 - alpha) + var_list_rand[6] * (alpha)\n",
    "    h4_b_inter = var_list_opt[7] * (1.0 - alpha) + var_list_rand[7] * (alpha)\n",
    "    #\n",
    "    h5_W_inter = var_list_opt[8] * (1.0 - alpha) + var_list_rand[8] * (alpha)\n",
    "    h5_b_inter = var_list_opt[9] * (1.0 - alpha) + var_list_rand[9] * (alpha)\n",
    "    #\n",
    "    o_W_inter  = var_list_opt[10] * (1.0 - alpha) + var_list_rand[10] * (alpha)\n",
    "    o_b_inter  = var_list_opt[11] * (1.0 - alpha) + var_list_rand[11] * (alpha)\n",
    "    \n",
    "    h1_inter = tf.nn.tanh(tf.matmul(x,        h1_W_inter) + h1_b_inter)\n",
    "    h2_inter = tf.nn.sigmoid(tf.matmul(h1_inter, h2_W_inter) + h2_b_inter)\n",
    "    h3_inter = tf.nn.sigmoid(tf.matmul(h2_inter, h3_W_inter) + h3_b_inter)\n",
    "    h4_inter = tf.nn.relu(tf.matmul(h3_inter, h4_W_inter) + h4_b_inter)\n",
    "    h5_inter = tf.nn.tanh(tf.matmul(h4_inter, h5_W_inter) + h5_b_inter)\n",
    "    o_inter  = tf.nn.leaky_relu(tf.matmul(h5_inter, o_W_inter ) + o_b_inter)\n",
    "    \n",
    "    cost_inter = loss(o_inter, y)\n",
    "    tf.summary.scalar(\"interpolated_cost\", cost_inter)\n",
    "       \n",
    "#save the parameters for plotting in tensorboard\n",
    "summary_writer = tf.summary.FileWriter(log_files_path + 'linear_interpolation_1/', sess.graph)\n",
    "summary_op = tf.summary.merge_all()\n",
    "\n",
    "#list to save the results of the following for loop\n",
    "results = []\n",
    "alphaMin = -2\n",
    "alphaMax = 2\n",
    "alphaStep = 0.01\n",
    "for a in np.arange(alphaMin, alphaMax, alphaStep):\n",
    "    #test data with different values of alpha coefficient\n",
    "    feed_dict = {\n",
    "            x: mnist.test.images,\n",
    "            y: mnist.test.labels,\n",
    "            alpha: [[a]],\n",
    "            }\n",
    "    #compute the loss for the different value of alpha\n",
    "    [cost, summary_str] = sess.run([cost_inter, summary_op], feed_dict=feed_dict)\n",
    "    summary_writer.add_summary(summary_str, (a + alphaMax)/alphaStep)\n",
    "    results.append(cost)\n",
    "\n",
    "plt.plot(np.arange(alphaMin, alphaMax, alphaStep), results, 'ro')\n",
    "plt.ylabel('Error')\n",
    "plt.xlabel('Alpha')\n",
    "plt.show()"
   ]
  },
  {
   "cell_type": "code",
   "execution_count": null,
   "metadata": {
    "colab": {},
    "colab_type": "code",
    "id": "ALgPeppALjlv"
   },
   "outputs": [],
   "source": []
  }
 ],
 "metadata": {
  "colab": {
   "name": "example_interpolation_1.ipynb",
   "provenance": []
  },
  "kernelspec": {
   "display_name": "Python 3",
   "language": "python",
   "name": "python3"
  },
  "language_info": {
   "codemirror_mode": {
    "name": "ipython",
    "version": 3
   },
   "file_extension": ".py",
   "mimetype": "text/x-python",
   "name": "python",
   "nbconvert_exporter": "python",
   "pygments_lexer": "ipython3",
   "version": "3.7.4"
  },
  "toc": {
   "base_numbering": 1,
   "nav_menu": {},
   "number_sections": true,
   "sideBar": true,
   "skip_h1_title": false,
   "title_cell": "Table of Contents",
   "title_sidebar": "Contents",
   "toc_cell": false,
   "toc_position": {},
   "toc_section_display": true,
   "toc_window_display": false
  },
  "varInspector": {
   "cols": {
    "lenName": 16,
    "lenType": 16,
    "lenVar": 40
   },
   "kernels_config": {
    "python": {
     "delete_cmd_postfix": "",
     "delete_cmd_prefix": "del ",
     "library": "var_list.py",
     "varRefreshCmd": "print(var_dic_list())"
    },
    "r": {
     "delete_cmd_postfix": ") ",
     "delete_cmd_prefix": "rm(",
     "library": "var_list.r",
     "varRefreshCmd": "cat(var_dic_list()) "
    }
   },
   "types_to_exclude": [
    "module",
    "function",
    "builtin_function_or_method",
    "instance",
    "_Feature"
   ],
   "window_display": false
  }
 },
 "nbformat": 4,
 "nbformat_minor": 1
}
